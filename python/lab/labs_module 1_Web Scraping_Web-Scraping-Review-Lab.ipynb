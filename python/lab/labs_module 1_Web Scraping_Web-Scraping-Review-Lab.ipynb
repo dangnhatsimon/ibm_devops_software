{
 "cells": [
  {
   "cell_type": "markdown",
   "metadata": {},
   "source": [
    "<center>\n",
    "    <img src=\"https://cf-courses-data.s3.us.cloud-object-storage.appdomain.cloud/IBMDeveloperSkillsNetwork-PY0101EN-SkillsNetwork/IDSNlogo.png\" width=\"300\" alt=\"cognitiveclass.ai logo\">\n",
    "</center>\n"
   ]
  },
  {
   "cell_type": "markdown",
   "metadata": {},
   "source": [
    "# **Web Scraping Lab**\n"
   ]
  },
  {
   "cell_type": "markdown",
   "metadata": {},
   "source": [
    "Estimated time needed: **30** minutes\n"
   ]
  },
  {
   "cell_type": "markdown",
   "metadata": {},
   "source": [
    "## Objectives\n"
   ]
  },
  {
   "cell_type": "markdown",
   "metadata": {},
   "source": [
    "After completing this lab you will be:\n",
    "\n",
    "*   Familiar with the basics of the `BeautifulSoup` Python library\n",
    "*   Be able to scrape webpages for data and filter the data\n"
   ]
  },
  {
   "cell_type": "markdown",
   "metadata": {},
   "source": [
    "<h2>Table of Contents</h2>\n",
    "<div class=\"alert alert-block alert-info\" style=\"margin-top: 20px\">\n",
    "    <ul>\n",
    "        <li>\n",
    "            <a href=\"https://bso/?utm_medium=Exinfluencer&utm_source=Exinfluencer&utm_content=000026UJ&utm_term=10006555&utm_id=NA-SkillsNetwork-Channel-SkillsNetworkCoursesIBMDeveloperSkillsNetworkPY0101ENSkillsNetwork19487395-2021-01-01\">Beautiful Soup Object</a>\n",
    "            <ul>\n",
    "                <li>Tag</li>\n",
    "                <li>Children, Parents, and Siblings</li>\n",
    "                <li>HTML Attributes</li>\n",
    "                <li>Navigable String</li>\n",
    "            </ul>\n",
    "        </li>\n",
    "     </ul>\n",
    "    <ul>\n",
    "        <li>\n",
    "            <a href=\"https://filter/?utm_medium=Exinfluencer&utm_source=Exinfluencer&utm_content=000026UJ&utm_term=10006555&utm_id=NA-SkillsNetwork-Channel-SkillsNetworkCoursesIBMDeveloperSkillsNetworkPY0101ENSkillsNetwork19487395-2021-01-01\">Filter</a>\n",
    "            <ul>\n",
    "                <li>find All</li>\n",
    "                <li>find </li>\n",
    "                <li>HTML Attributes</li>\n",
    "                <li>Navigable String</li>\n",
    "            </ul>\n",
    "        </li>\n",
    "     </ul>\n",
    "     <ul>\n",
    "        <li>\n",
    "            <a href=\"https://dscw/?utm_medium=Exinfluencer&utm_source=Exinfluencer&utm_content=000026UJ&utm_term=10006555&utm_id=NA-SkillsNetwork-Channel-SkillsNetworkCoursesIBMDeveloperSkillsNetworkPY0101ENSkillsNetwork19487395-2021-01-01\">Downloading And Scraping The Contents Of A Web</a>\n",
    "    </p>\n",
    "\n",
    "</div>\n",
    "\n",
    "<hr>\n"
   ]
  },
  {
   "cell_type": "markdown",
   "metadata": {},
   "source": [
    "For this lab, we are going to be using Python and several Python libraries. Some of these libraries might be installed in your lab environment or in SN Labs. Others may need to be installed by you. The cells below will install these libraries when executed.\n"
   ]
  },
  {
   "cell_type": "code",
   "execution_count": 1,
   "metadata": {
    "tags": []
   },
   "outputs": [
    {
     "name": "stdout",
     "output_type": "stream",
     "text": [
      "Requirement already satisfied: html5lib in /home/jupyterlab/conda/envs/python/lib/python3.7/site-packages (1.1)\n",
      "Requirement already satisfied: six>=1.9 in /home/jupyterlab/conda/envs/python/lib/python3.7/site-packages (from html5lib) (1.16.0)\n",
      "Requirement already satisfied: webencodings in /home/jupyterlab/conda/envs/python/lib/python3.7/site-packages (from html5lib) (0.5.1)\n"
     ]
    }
   ],
   "source": [
    "!pip install html5lib"
   ]
  },
  {
   "cell_type": "markdown",
   "metadata": {},
   "source": [
    "**Note:- After running the above code cell, restart the kernel and don't run the above code cell after restarting the kernel.**\n"
   ]
  },
  {
   "cell_type": "code",
   "execution_count": 2,
   "metadata": {
    "tags": []
   },
   "outputs": [
    {
     "name": "stdout",
     "output_type": "stream",
     "text": [
      "Requirement already satisfied: bs4 in /home/jupyterlab/conda/envs/python/lib/python3.7/site-packages (0.0.1)\n",
      "Requirement already satisfied: beautifulsoup4 in /home/jupyterlab/conda/envs/python/lib/python3.7/site-packages (from bs4) (4.11.1)\n",
      "Requirement already satisfied: soupsieve>1.2 in /home/jupyterlab/conda/envs/python/lib/python3.7/site-packages (from beautifulsoup4->bs4) (2.3.2.post1)\n"
     ]
    }
   ],
   "source": [
    "!pip install bs4\n",
    "#!pip install requests"
   ]
  },
  {
   "cell_type": "markdown",
   "metadata": {},
   "source": [
    "Import the required modules and functions\n"
   ]
  },
  {
   "cell_type": "code",
   "execution_count": 3,
   "metadata": {
    "tags": []
   },
   "outputs": [],
   "source": [
    "from bs4 import BeautifulSoup # this module helps in web scrapping.\n",
    "import requests  # this module helps us to download a web page"
   ]
  },
  {
   "cell_type": "markdown",
   "metadata": {},
   "source": [
    "<h2 id=\"BSO\">Beautiful Soup Objects</h2>\n"
   ]
  },
  {
   "cell_type": "markdown",
   "metadata": {},
   "source": [
    "Beautiful Soup is a Python library for pulling data out of HTML and XML files, we will focus on HTML files. This is accomplished by representing the HTML as a set of objects with methods used to parse the HTML.  We can navigate the HTML as a tree, and/or filter out what we are looking for.\n",
    "\n",
    "Consider the following HTML:\n"
   ]
  },
  {
   "cell_type": "code",
   "execution_count": 4,
   "metadata": {
    "tags": []
   },
   "outputs": [
    {
     "data": {
      "text/html": [
       "<!DOCTYPE html>\n",
       "<html>\n",
       "<head>\n",
       "<title>Page Title</title>\n",
       "</head>\n",
       "<body>\n",
       "<h3><b id='boldest'>Lebron James</b></h3>\n",
       "<p> Salary: $ 92,000,000 </p>\n",
       "<h3> Stephen Curry</h3>\n",
       "<p> Salary: $85,000, 000 </p>\n",
       "<h3> Kevin Durant </h3>\n",
       "<p> Salary: $73,200, 000</p>\n",
       "</body>\n",
       "</html>\n"
      ],
      "text/plain": [
       "<IPython.core.display.HTML object>"
      ]
     },
     "metadata": {},
     "output_type": "display_data"
    }
   ],
   "source": [
    "%%html\n",
    "<!DOCTYPE html>\n",
    "<html>\n",
    "<head>\n",
    "<title>Page Title</title>\n",
    "</head>\n",
    "<body>\n",
    "<h3><b id='boldest'>Lebron James</b></h3>\n",
    "<p> Salary: $ 92,000,000 </p>\n",
    "<h3> Stephen Curry</h3>\n",
    "<p> Salary: $85,000, 000 </p>\n",
    "<h3> Kevin Durant </h3>\n",
    "<p> Salary: $73,200, 000</p>\n",
    "</body>\n",
    "</html>"
   ]
  },
  {
   "cell_type": "markdown",
   "metadata": {},
   "source": [
    "We can store it as a string in the variable HTML:\n"
   ]
  },
  {
   "cell_type": "code",
   "execution_count": 5,
   "metadata": {
    "tags": []
   },
   "outputs": [],
   "source": [
    "html=\"<!DOCTYPE html><html><head><title>Page Title</title></head><body><h3><b id='boldest'>Lebron James</b></h3><p> Salary: $ 92,000,000 </p><h3> Stephen Curry</h3><p> Salary: $85,000, 000 </p><h3> Kevin Durant </h3><p> Salary: $73,200, 000</p></body></html>\""
   ]
  },
  {
   "cell_type": "markdown",
   "metadata": {},
   "source": [
    "To parse a document, pass it into the <code>BeautifulSoup</code> constructor. The <code>BeautifulSoup</code> object represents the document as a nested data structure:\n"
   ]
  },
  {
   "cell_type": "code",
   "execution_count": 6,
   "metadata": {
    "tags": []
   },
   "outputs": [],
   "source": [
    "soup = BeautifulSoup(html, 'html5lib')"
   ]
  },
  {
   "cell_type": "markdown",
   "metadata": {},
   "source": [
    "First, the document is converted to Unicode (similar to ASCII) and HTML entities are converted to Unicode characters. Beautiful Soup transforms a complex HTML document into a complex tree of Python objects. The <code>BeautifulSoup</code> object can create other types of objects. In this lab, we will cover <code>BeautifulSoup</code> and <code>Tag</code> objects, that for the purposes of this lab are identical. Finally, we will look at <code>NavigableString</code> objects.\n"
   ]
  },
  {
   "cell_type": "markdown",
   "metadata": {},
   "source": [
    "We can use the method <code>prettify()</code> to display the HTML in the nested structure:\n"
   ]
  },
  {
   "cell_type": "code",
   "execution_count": 7,
   "metadata": {
    "tags": []
   },
   "outputs": [
    {
     "name": "stdout",
     "output_type": "stream",
     "text": [
      "<!DOCTYPE html>\n",
      "<html>\n",
      " <head>\n",
      "  <title>\n",
      "   Page Title\n",
      "  </title>\n",
      " </head>\n",
      " <body>\n",
      "  <h3>\n",
      "   <b id=\"boldest\">\n",
      "    Lebron James\n",
      "   </b>\n",
      "  </h3>\n",
      "  <p>\n",
      "   Salary: $ 92,000,000\n",
      "  </p>\n",
      "  <h3>\n",
      "   Stephen Curry\n",
      "  </h3>\n",
      "  <p>\n",
      "   Salary: $85,000, 000\n",
      "  </p>\n",
      "  <h3>\n",
      "   Kevin Durant\n",
      "  </h3>\n",
      "  <p>\n",
      "   Salary: $73,200, 000\n",
      "  </p>\n",
      " </body>\n",
      "</html>\n"
     ]
    }
   ],
   "source": [
    "print(soup.prettify())"
   ]
  },
  {
   "cell_type": "markdown",
   "metadata": {},
   "source": [
    "## Tags\n"
   ]
  },
  {
   "cell_type": "markdown",
   "metadata": {},
   "source": [
    "Let's say we want the  title of the page and the name of the top paid player. We can use the <code>Tag</code>. The <code>Tag</code> object corresponds to an HTML tag in the original document, for example, the tag title.\n"
   ]
  },
  {
   "cell_type": "code",
   "execution_count": 8,
   "metadata": {
    "tags": []
   },
   "outputs": [
    {
     "name": "stdout",
     "output_type": "stream",
     "text": [
      "tag object: <title>Page Title</title>\n"
     ]
    }
   ],
   "source": [
    "tag_object=soup.title\n",
    "print(\"tag object:\",tag_object)"
   ]
  },
  {
   "cell_type": "markdown",
   "metadata": {},
   "source": [
    "we can see the tag type <code>bs4.element.Tag</code>\n"
   ]
  },
  {
   "cell_type": "code",
   "execution_count": 9,
   "metadata": {
    "tags": []
   },
   "outputs": [
    {
     "name": "stdout",
     "output_type": "stream",
     "text": [
      "tag object type: <class 'bs4.element.Tag'>\n"
     ]
    }
   ],
   "source": [
    "print(\"tag object type:\",type(tag_object))"
   ]
  },
  {
   "cell_type": "markdown",
   "metadata": {},
   "source": [
    "If there is more than one <code>Tag</code> with the same name, the first element with that <code>Tag</code> name is called. This corresponds to the most paid player:\n"
   ]
  },
  {
   "cell_type": "code",
   "execution_count": 10,
   "metadata": {
    "tags": []
   },
   "outputs": [
    {
     "data": {
      "text/plain": [
       "<h3><b id=\"boldest\">Lebron James</b></h3>"
      ]
     },
     "execution_count": 10,
     "metadata": {},
     "output_type": "execute_result"
    }
   ],
   "source": [
    "tag_object=soup.h3\n",
    "tag_object"
   ]
  },
  {
   "cell_type": "markdown",
   "metadata": {},
   "source": [
    "Enclosed in the bold attribute <code>b</code>, it helps to use the tree representation. We can navigate down the tree using the child attribute to get the name.\n"
   ]
  },
  {
   "cell_type": "markdown",
   "metadata": {},
   "source": [
    "### Children, Parents, and Siblings\n"
   ]
  },
  {
   "cell_type": "markdown",
   "metadata": {},
   "source": [
    "As stated above, the <code>Tag</code> object is a tree of objects. We can access the child of the tag or navigate down the branch as follows:\n"
   ]
  },
  {
   "cell_type": "code",
   "execution_count": 11,
   "metadata": {
    "tags": []
   },
   "outputs": [
    {
     "data": {
      "text/plain": [
       "<b id=\"boldest\">Lebron James</b>"
      ]
     },
     "execution_count": 11,
     "metadata": {},
     "output_type": "execute_result"
    }
   ],
   "source": [
    "tag_child =tag_object.b\n",
    "tag_child"
   ]
  },
  {
   "cell_type": "markdown",
   "metadata": {},
   "source": [
    "You can access the parent with the <code> parent</code>.\n"
   ]
  },
  {
   "cell_type": "code",
   "execution_count": 12,
   "metadata": {
    "tags": []
   },
   "outputs": [
    {
     "data": {
      "text/plain": [
       "<h3><b id=\"boldest\">Lebron James</b></h3>"
      ]
     },
     "execution_count": 12,
     "metadata": {},
     "output_type": "execute_result"
    }
   ],
   "source": [
    "parent_tag=tag_child.parent\n",
    "parent_tag"
   ]
  },
  {
   "cell_type": "markdown",
   "metadata": {},
   "source": [
    "this is identical to:\n"
   ]
  },
  {
   "cell_type": "code",
   "execution_count": 13,
   "metadata": {
    "tags": []
   },
   "outputs": [
    {
     "data": {
      "text/plain": [
       "<h3><b id=\"boldest\">Lebron James</b></h3>"
      ]
     },
     "execution_count": 13,
     "metadata": {},
     "output_type": "execute_result"
    }
   ],
   "source": [
    "tag_object"
   ]
  },
  {
   "cell_type": "markdown",
   "metadata": {},
   "source": [
    "<code>tag_object</code> parent is the <code>body</code> element.\n"
   ]
  },
  {
   "cell_type": "code",
   "execution_count": 14,
   "metadata": {
    "tags": []
   },
   "outputs": [
    {
     "data": {
      "text/plain": [
       "<body><h3><b id=\"boldest\">Lebron James</b></h3><p> Salary: $ 92,000,000 </p><h3> Stephen Curry</h3><p> Salary: $85,000, 000 </p><h3> Kevin Durant </h3><p> Salary: $73,200, 000</p></body>"
      ]
     },
     "execution_count": 14,
     "metadata": {},
     "output_type": "execute_result"
    }
   ],
   "source": [
    "tag_object.parent"
   ]
  },
  {
   "cell_type": "markdown",
   "metadata": {},
   "source": [
    "<code>tag_object</code> sibling is the <code>paragraph</code> element.\n"
   ]
  },
  {
   "cell_type": "code",
   "execution_count": 15,
   "metadata": {
    "tags": []
   },
   "outputs": [
    {
     "data": {
      "text/plain": [
       "<p> Salary: $ 92,000,000 </p>"
      ]
     },
     "execution_count": 15,
     "metadata": {},
     "output_type": "execute_result"
    }
   ],
   "source": [
    "sibling_1=tag_object.next_sibling\n",
    "sibling_1"
   ]
  },
  {
   "cell_type": "markdown",
   "metadata": {},
   "source": [
    "`sibling_2` is the `header` element, which is also a sibling of both `sibling_1` and `tag_object`\n"
   ]
  },
  {
   "cell_type": "code",
   "execution_count": 16,
   "metadata": {
    "tags": []
   },
   "outputs": [
    {
     "data": {
      "text/plain": [
       "<h3> Stephen Curry</h3>"
      ]
     },
     "execution_count": 16,
     "metadata": {},
     "output_type": "execute_result"
    }
   ],
   "source": [
    "sibling_2=sibling_1.next_sibling\n",
    "sibling_2"
   ]
  },
  {
   "cell_type": "markdown",
   "metadata": {},
   "source": [
    "<h3 id=\"first_question\">Exercise: <code>next_sibling</code></h3>\n"
   ]
  },
  {
   "cell_type": "markdown",
   "metadata": {},
   "source": [
    "Use the object <code>sibling\\_2</code> and the method <code>next_sibling</code> to find the salary of Stephen Curry:\n"
   ]
  },
  {
   "cell_type": "code",
   "execution_count": 17,
   "metadata": {
    "tags": []
   },
   "outputs": [
    {
     "data": {
      "text/plain": [
       "<p> Salary: $85,000, 000 </p>"
      ]
     },
     "execution_count": 17,
     "metadata": {},
     "output_type": "execute_result"
    }
   ],
   "source": [
    "sibling_3=sibling_2.next_sibling\n",
    "sibling_3"
   ]
  },
  {
   "cell_type": "markdown",
   "metadata": {},
   "source": [
    "<details><summary>Click here for the solution</summary>\n",
    "\n",
    "```\n",
    "sibling_2.next_sibling\n",
    "\n",
    "```\n",
    "\n",
    "</details>\n"
   ]
  },
  {
   "cell_type": "markdown",
   "metadata": {},
   "source": [
    "### HTML Attributes\n"
   ]
  },
  {
   "cell_type": "markdown",
   "metadata": {},
   "source": [
    "If the tag has attributes, the tag <code>id=\"boldest\"</code> has an attribute <code>id</code> whose value is <code>boldest</code>. You can access a tag's attributes by treating the tag like a dictionary:\n"
   ]
  },
  {
   "cell_type": "code",
   "execution_count": 18,
   "metadata": {
    "tags": []
   },
   "outputs": [
    {
     "data": {
      "text/plain": [
       "'boldest'"
      ]
     },
     "execution_count": 18,
     "metadata": {},
     "output_type": "execute_result"
    }
   ],
   "source": [
    "tag_child['id']"
   ]
  },
  {
   "cell_type": "markdown",
   "metadata": {},
   "source": [
    "You can access that dictionary directly as <code>attrs</code>:\n"
   ]
  },
  {
   "cell_type": "code",
   "execution_count": 19,
   "metadata": {
    "tags": []
   },
   "outputs": [
    {
     "data": {
      "text/plain": [
       "{'id': 'boldest'}"
      ]
     },
     "execution_count": 19,
     "metadata": {},
     "output_type": "execute_result"
    }
   ],
   "source": [
    "tag_child.attrs"
   ]
  },
  {
   "cell_type": "markdown",
   "metadata": {},
   "source": [
    "You can also work with Multi-valued attributes. Check out <a href=\"https://www.crummy.com/software/BeautifulSoup/bs4/doc/?utm_medium=Exinfluencer&utm_source=Exinfluencer&utm_content=000026UJ&utm_term=10006555&utm_id=NA-SkillsNetwork-Channel-SkillsNetworkCoursesIBMDeveloperSkillsNetworkPY0101ENSkillsNetwork19487395-2021-01-01\">\\[1]</a> for more.\n"
   ]
  },
  {
   "cell_type": "markdown",
   "metadata": {},
   "source": [
    "We can also obtain the content of the attribute of the <code>tag</code> using the Python <code>get()</code> method.\n"
   ]
  },
  {
   "cell_type": "code",
   "execution_count": 20,
   "metadata": {
    "tags": []
   },
   "outputs": [
    {
     "data": {
      "text/plain": [
       "'boldest'"
      ]
     },
     "execution_count": 20,
     "metadata": {},
     "output_type": "execute_result"
    }
   ],
   "source": [
    "tag_child.get('id')"
   ]
  },
  {
   "cell_type": "markdown",
   "metadata": {},
   "source": [
    "### Navigable String\n"
   ]
  },
  {
   "cell_type": "markdown",
   "metadata": {},
   "source": [
    "A string corresponds to a bit of text or content within a tag. Beautiful Soup uses the <code>NavigableString</code> class to contain this text. In our HTML we can obtain the name of the first player by extracting the string of the <code>Tag</code> object <code>tag_child</code> as follows:\n"
   ]
  },
  {
   "cell_type": "code",
   "execution_count": 21,
   "metadata": {
    "tags": []
   },
   "outputs": [
    {
     "data": {
      "text/plain": [
       "<b id=\"boldest\">Lebron James</b>"
      ]
     },
     "execution_count": 21,
     "metadata": {},
     "output_type": "execute_result"
    }
   ],
   "source": [
    "tag_child"
   ]
  },
  {
   "cell_type": "code",
   "execution_count": 22,
   "metadata": {
    "tags": []
   },
   "outputs": [
    {
     "data": {
      "text/plain": [
       "'Lebron James'"
      ]
     },
     "execution_count": 22,
     "metadata": {},
     "output_type": "execute_result"
    }
   ],
   "source": [
    "tag_string=tag_child.string\n",
    "tag_string"
   ]
  },
  {
   "cell_type": "markdown",
   "metadata": {},
   "source": [
    "we can verify the type is Navigable String\n"
   ]
  },
  {
   "cell_type": "code",
   "execution_count": 23,
   "metadata": {
    "tags": []
   },
   "outputs": [
    {
     "data": {
      "text/plain": [
       "bs4.element.NavigableString"
      ]
     },
     "execution_count": 23,
     "metadata": {},
     "output_type": "execute_result"
    }
   ],
   "source": [
    "type(tag_string)"
   ]
  },
  {
   "cell_type": "markdown",
   "metadata": {},
   "source": [
    "A NavigableString is similar to a Python string or Unicode string. To be more precise, the main difference is that it also supports some <code>BeautifulSoup</code> features. We can convert it to string object in Python:\n"
   ]
  },
  {
   "cell_type": "code",
   "execution_count": 24,
   "metadata": {
    "tags": []
   },
   "outputs": [
    {
     "data": {
      "text/plain": [
       "'Lebron James'"
      ]
     },
     "execution_count": 24,
     "metadata": {},
     "output_type": "execute_result"
    }
   ],
   "source": [
    "unicode_string = str(tag_string)\n",
    "unicode_string"
   ]
  },
  {
   "cell_type": "markdown",
   "metadata": {},
   "source": [
    "<h2 id=\"filter\">Filter</h2>\n"
   ]
  },
  {
   "cell_type": "markdown",
   "metadata": {},
   "source": [
    "Filters allow you to find complex patterns, the simplest filter is a string. In this section we will pass a string to a different filter method and Beautiful Soup will perform a match against that exact string. Consider the following HTML of rocket launches:\n"
   ]
  },
  {
   "cell_type": "code",
   "execution_count": 25,
   "metadata": {
    "tags": []
   },
   "outputs": [
    {
     "data": {
      "text/html": [
       "<table>\n",
       "  <tr>\n",
       "    <td id='flight' >Flight No</td>\n",
       "    <td>Launch site</td> \n",
       "    <td>Payload mass</td>\n",
       "   </tr>\n",
       "  <tr> \n",
       "    <td>1</td>\n",
       "    <td><a href='https://en.wikipedia.org/wiki/Florida'>Florida</a></td>\n",
       "    <td>300 kg</td>\n",
       "  </tr>\n",
       "  <tr>\n",
       "    <td>2</td>\n",
       "    <td><a href='https://en.wikipedia.org/wiki/Texas'>Texas</a></td>\n",
       "    <td>94 kg</td>\n",
       "  </tr>\n",
       "  <tr>\n",
       "    <td>3</td>\n",
       "    <td><a href='https://en.wikipedia.org/wiki/Florida'>Florida<a> </td>\n",
       "    <td>80 kg</td>\n",
       "  </tr>\n",
       "</table>\n"
      ],
      "text/plain": [
       "<IPython.core.display.HTML object>"
      ]
     },
     "metadata": {},
     "output_type": "display_data"
    }
   ],
   "source": [
    "%%html\n",
    "<table>\n",
    "  <tr>\n",
    "    <td id='flight' >Flight No</td>\n",
    "    <td>Launch site</td> \n",
    "    <td>Payload mass</td>\n",
    "   </tr>\n",
    "  <tr> \n",
    "    <td>1</td>\n",
    "    <td><a href='https://en.wikipedia.org/wiki/Florida'>Florida</a></td>\n",
    "    <td>300 kg</td>\n",
    "  </tr>\n",
    "  <tr>\n",
    "    <td>2</td>\n",
    "    <td><a href='https://en.wikipedia.org/wiki/Texas'>Texas</a></td>\n",
    "    <td>94 kg</td>\n",
    "  </tr>\n",
    "  <tr>\n",
    "    <td>3</td>\n",
    "    <td><a href='https://en.wikipedia.org/wiki/Florida'>Florida<a> </td>\n",
    "    <td>80 kg</td>\n",
    "  </tr>\n",
    "</table>"
   ]
  },
  {
   "cell_type": "markdown",
   "metadata": {},
   "source": [
    "We can store it as a string in the variable <code>table</code>:\n"
   ]
  },
  {
   "cell_type": "code",
   "execution_count": 26,
   "metadata": {
    "tags": []
   },
   "outputs": [],
   "source": [
    "table=\"<table><tr><td id='flight'>Flight No</td><td>Launch site</td> <td>Payload mass</td></tr><tr> <td>1</td><td><a href='https://en.wikipedia.org/wiki/Florida'>Florida<a></td><td>300 kg</td></tr><tr><td>2</td><td><a href='https://en.wikipedia.org/wiki/Texas'>Texas</a></td><td>94 kg</td></tr><tr><td>3</td><td><a href='https://en.wikipedia.org/wiki/Florida'>Florida<a> </td><td>80 kg</td></tr></table>\""
   ]
  },
  {
   "cell_type": "code",
   "execution_count": 27,
   "metadata": {
    "tags": []
   },
   "outputs": [],
   "source": [
    "table_bs = BeautifulSoup(table, 'html5lib')"
   ]
  },
  {
   "cell_type": "markdown",
   "metadata": {},
   "source": [
    "## find All\n"
   ]
  },
  {
   "cell_type": "markdown",
   "metadata": {},
   "source": [
    "The <code>find_all()</code> method looks through a tag's descendants and retrieves all descendants that match your filters.\n",
    "\n",
    "<p>\n",
    "The Method signature for <code>find_all(name, attrs, recursive, string, limit, **kwargs)<c/ode>\n",
    "</p>\n"
   ]
  },
  {
   "cell_type": "markdown",
   "metadata": {},
   "source": [
    "### Name\n"
   ]
  },
  {
   "cell_type": "markdown",
   "metadata": {},
   "source": [
    "When we set the <code>name</code> parameter to a tag name, the method will extract all the tags with that name and its children.\n"
   ]
  },
  {
   "cell_type": "code",
   "execution_count": 28,
   "metadata": {
    "tags": []
   },
   "outputs": [
    {
     "data": {
      "text/plain": [
       "[<tr><td id=\"flight\">Flight No</td><td>Launch site</td> <td>Payload mass</td></tr>,\n",
       " <tr> <td>1</td><td><a href=\"https://en.wikipedia.org/wiki/Florida\">Florida</a><a></a></td><td>300 kg</td></tr>,\n",
       " <tr><td>2</td><td><a href=\"https://en.wikipedia.org/wiki/Texas\">Texas</a></td><td>94 kg</td></tr>,\n",
       " <tr><td>3</td><td><a href=\"https://en.wikipedia.org/wiki/Florida\">Florida</a><a> </a></td><td>80 kg</td></tr>]"
      ]
     },
     "execution_count": 28,
     "metadata": {},
     "output_type": "execute_result"
    }
   ],
   "source": [
    "table_rows=table_bs.find_all('tr')\n",
    "table_rows"
   ]
  },
  {
   "cell_type": "markdown",
   "metadata": {},
   "source": [
    "The result is a Python iterable just like a list, each element is a <code>tag</code> object:\n"
   ]
  },
  {
   "cell_type": "code",
   "execution_count": 29,
   "metadata": {
    "tags": []
   },
   "outputs": [
    {
     "data": {
      "text/plain": [
       "<tr><td id=\"flight\">Flight No</td><td>Launch site</td> <td>Payload mass</td></tr>"
      ]
     },
     "execution_count": 29,
     "metadata": {},
     "output_type": "execute_result"
    }
   ],
   "source": [
    "first_row =table_rows[0]\n",
    "first_row"
   ]
  },
  {
   "cell_type": "markdown",
   "metadata": {},
   "source": [
    "The type is <code>tag</code>\n"
   ]
  },
  {
   "cell_type": "code",
   "execution_count": 30,
   "metadata": {
    "tags": []
   },
   "outputs": [
    {
     "name": "stdout",
     "output_type": "stream",
     "text": [
      "<class 'bs4.element.Tag'>\n"
     ]
    }
   ],
   "source": [
    "print(type(first_row))"
   ]
  },
  {
   "cell_type": "markdown",
   "metadata": {},
   "source": [
    "we can obtain the child\n"
   ]
  },
  {
   "cell_type": "code",
   "execution_count": 31,
   "metadata": {
    "tags": []
   },
   "outputs": [
    {
     "data": {
      "text/plain": [
       "<td id=\"flight\">Flight No</td>"
      ]
     },
     "execution_count": 31,
     "metadata": {},
     "output_type": "execute_result"
    }
   ],
   "source": [
    "first_row.td"
   ]
  },
  {
   "cell_type": "markdown",
   "metadata": {},
   "source": [
    "If we iterate through the list, each element corresponds to a row in the table:\n"
   ]
  },
  {
   "cell_type": "code",
   "execution_count": 32,
   "metadata": {
    "tags": []
   },
   "outputs": [
    {
     "name": "stdout",
     "output_type": "stream",
     "text": [
      "row 0 is <tr><td id=\"flight\">Flight No</td><td>Launch site</td> <td>Payload mass</td></tr>\n",
      "row 1 is <tr> <td>1</td><td><a href=\"https://en.wikipedia.org/wiki/Florida\">Florida</a><a></a></td><td>300 kg</td></tr>\n",
      "row 2 is <tr><td>2</td><td><a href=\"https://en.wikipedia.org/wiki/Texas\">Texas</a></td><td>94 kg</td></tr>\n",
      "row 3 is <tr><td>3</td><td><a href=\"https://en.wikipedia.org/wiki/Florida\">Florida</a><a> </a></td><td>80 kg</td></tr>\n"
     ]
    }
   ],
   "source": [
    "for i,row in enumerate(table_rows):\n",
    "    print(\"row\",i,\"is\",row)\n",
    "    "
   ]
  },
  {
   "cell_type": "markdown",
   "metadata": {},
   "source": [
    "As <code>row</code> is a <code>cell</code> object, we can apply the method <code>find_all</code> to it and extract table cells in the object <code>cells</code> using the tag <code>td</code>, this is all the children with the name <code>td</code>. The result is a list, each element corresponds to a cell and is a <code>Tag</code> object, we can iterate through this list as well. We can extract the content using the <code>string</code> attribute.\n"
   ]
  },
  {
   "cell_type": "code",
   "execution_count": 33,
   "metadata": {
    "tags": []
   },
   "outputs": [
    {
     "name": "stdout",
     "output_type": "stream",
     "text": [
      "row 0\n",
      "colunm 0 cell <td id=\"flight\">Flight No</td>\n",
      "colunm 1 cell <td>Launch site</td>\n",
      "colunm 2 cell <td>Payload mass</td>\n",
      "row 1\n",
      "colunm 0 cell <td>1</td>\n",
      "colunm 1 cell <td><a href=\"https://en.wikipedia.org/wiki/Florida\">Florida</a><a></a></td>\n",
      "colunm 2 cell <td>300 kg</td>\n",
      "row 2\n",
      "colunm 0 cell <td>2</td>\n",
      "colunm 1 cell <td><a href=\"https://en.wikipedia.org/wiki/Texas\">Texas</a></td>\n",
      "colunm 2 cell <td>94 kg</td>\n",
      "row 3\n",
      "colunm 0 cell <td>3</td>\n",
      "colunm 1 cell <td><a href=\"https://en.wikipedia.org/wiki/Florida\">Florida</a><a> </a></td>\n",
      "colunm 2 cell <td>80 kg</td>\n"
     ]
    }
   ],
   "source": [
    "for i,row in enumerate(table_rows):\n",
    "    print(\"row\",i)\n",
    "    cells=row.find_all('td')\n",
    "    for j,cell in enumerate(cells):\n",
    "        print('colunm',j,\"cell\",cell)"
   ]
  },
  {
   "cell_type": "markdown",
   "metadata": {},
   "source": [
    "If we use a list we can match against any item in that list.\n"
   ]
  },
  {
   "cell_type": "code",
   "execution_count": 34,
   "metadata": {
    "tags": []
   },
   "outputs": [
    {
     "data": {
      "text/plain": [
       "[<tr><td id=\"flight\">Flight No</td><td>Launch site</td> <td>Payload mass</td></tr>,\n",
       " <td id=\"flight\">Flight No</td>,\n",
       " <td>Launch site</td>,\n",
       " <td>Payload mass</td>,\n",
       " <tr> <td>1</td><td><a href=\"https://en.wikipedia.org/wiki/Florida\">Florida</a><a></a></td><td>300 kg</td></tr>,\n",
       " <td>1</td>,\n",
       " <td><a href=\"https://en.wikipedia.org/wiki/Florida\">Florida</a><a></a></td>,\n",
       " <td>300 kg</td>,\n",
       " <tr><td>2</td><td><a href=\"https://en.wikipedia.org/wiki/Texas\">Texas</a></td><td>94 kg</td></tr>,\n",
       " <td>2</td>,\n",
       " <td><a href=\"https://en.wikipedia.org/wiki/Texas\">Texas</a></td>,\n",
       " <td>94 kg</td>,\n",
       " <tr><td>3</td><td><a href=\"https://en.wikipedia.org/wiki/Florida\">Florida</a><a> </a></td><td>80 kg</td></tr>,\n",
       " <td>3</td>,\n",
       " <td><a href=\"https://en.wikipedia.org/wiki/Florida\">Florida</a><a> </a></td>,\n",
       " <td>80 kg</td>]"
      ]
     },
     "execution_count": 34,
     "metadata": {},
     "output_type": "execute_result"
    }
   ],
   "source": [
    "list_input=table_bs .find_all(name=[\"tr\", \"td\"])\n",
    "list_input"
   ]
  },
  {
   "cell_type": "markdown",
   "metadata": {},
   "source": [
    "## Attributes\n"
   ]
  },
  {
   "cell_type": "markdown",
   "metadata": {},
   "source": [
    "If the argument is not recognized it will be turned into a filter on the tag's attributes. For example with the <code>id</code> argument, Beautiful Soup will filter against each tag's <code>id</code> attribute. For example, the first <code>td</code> elements have a value of <code>id</code> of <code>flight</code>, therefore we can filter based on that <code>id</code> value.\n"
   ]
  },
  {
   "cell_type": "code",
   "execution_count": 35,
   "metadata": {
    "tags": []
   },
   "outputs": [
    {
     "data": {
      "text/plain": [
       "[<td id=\"flight\">Flight No</td>]"
      ]
     },
     "execution_count": 35,
     "metadata": {},
     "output_type": "execute_result"
    }
   ],
   "source": [
    "table_bs.find_all(id=\"flight\")"
   ]
  },
  {
   "cell_type": "markdown",
   "metadata": {},
   "source": [
    "We can find all the elements that have links to the Florida Wikipedia page:\n"
   ]
  },
  {
   "cell_type": "code",
   "execution_count": 36,
   "metadata": {},
   "outputs": [
    {
     "data": {
      "text/plain": [
       "[<a href=\"https://en.wikipedia.org/wiki/Florida\">Florida</a>,\n",
       " <a href=\"https://en.wikipedia.org/wiki/Florida\">Florida</a>]"
      ]
     },
     "execution_count": 36,
     "metadata": {},
     "output_type": "execute_result"
    }
   ],
   "source": [
    "list_input=table_bs.find_all(href=\"https://en.wikipedia.org/wiki/Florida\")\n",
    "list_input"
   ]
  },
  {
   "cell_type": "markdown",
   "metadata": {},
   "source": [
    "If we set the <code>href</code> attribute to True, regardless of what the value is, the code finds all tags with <code>href</code> value:\n"
   ]
  },
  {
   "cell_type": "code",
   "execution_count": 37,
   "metadata": {},
   "outputs": [
    {
     "data": {
      "text/plain": [
       "[<a href=\"https://en.wikipedia.org/wiki/Florida\">Florida</a>,\n",
       " <a href=\"https://en.wikipedia.org/wiki/Texas\">Texas</a>,\n",
       " <a href=\"https://en.wikipedia.org/wiki/Florida\">Florida</a>]"
      ]
     },
     "execution_count": 37,
     "metadata": {},
     "output_type": "execute_result"
    }
   ],
   "source": [
    "table_bs.find_all(href=True)"
   ]
  },
  {
   "cell_type": "markdown",
   "metadata": {},
   "source": [
    "There are other methods for dealing with attributes and other related methods. Check out the following <a href='https://www.crummy.com/software/BeautifulSoup/bs4/doc/?utm_medium=Exinfluencer&utm_source=Exinfluencer&utm_content=000026UJ&utm_term=10006555&utm_id=NA-SkillsNetwork-Channel-SkillsNetworkCoursesIBMDeveloperSkillsNetworkPY0101ENSkillsNetwork19487395-2021-01-01#css-selectors'>link</a>\n"
   ]
  },
  {
   "cell_type": "markdown",
   "metadata": {},
   "source": [
    "<h3 id=\"exer_type\">Exercise: <code>find_all</code></h3>\n"
   ]
  },
  {
   "cell_type": "markdown",
   "metadata": {},
   "source": [
    "Using the logic above, find all the elements without <code>href</code> value\n"
   ]
  },
  {
   "cell_type": "code",
   "execution_count": 38,
   "metadata": {},
   "outputs": [
    {
     "data": {
      "text/plain": [
       "[<html><head></head><body><table><tbody><tr><td id=\"flight\">Flight No</td><td>Launch site</td> <td>Payload mass</td></tr><tr> <td>1</td><td><a href=\"https://en.wikipedia.org/wiki/Florida\">Florida</a><a></a></td><td>300 kg</td></tr><tr><td>2</td><td><a href=\"https://en.wikipedia.org/wiki/Texas\">Texas</a></td><td>94 kg</td></tr><tr><td>3</td><td><a href=\"https://en.wikipedia.org/wiki/Florida\">Florida</a><a> </a></td><td>80 kg</td></tr></tbody></table></body></html>,\n",
       " <head></head>,\n",
       " <body><table><tbody><tr><td id=\"flight\">Flight No</td><td>Launch site</td> <td>Payload mass</td></tr><tr> <td>1</td><td><a href=\"https://en.wikipedia.org/wiki/Florida\">Florida</a><a></a></td><td>300 kg</td></tr><tr><td>2</td><td><a href=\"https://en.wikipedia.org/wiki/Texas\">Texas</a></td><td>94 kg</td></tr><tr><td>3</td><td><a href=\"https://en.wikipedia.org/wiki/Florida\">Florida</a><a> </a></td><td>80 kg</td></tr></tbody></table></body>,\n",
       " <table><tbody><tr><td id=\"flight\">Flight No</td><td>Launch site</td> <td>Payload mass</td></tr><tr> <td>1</td><td><a href=\"https://en.wikipedia.org/wiki/Florida\">Florida</a><a></a></td><td>300 kg</td></tr><tr><td>2</td><td><a href=\"https://en.wikipedia.org/wiki/Texas\">Texas</a></td><td>94 kg</td></tr><tr><td>3</td><td><a href=\"https://en.wikipedia.org/wiki/Florida\">Florida</a><a> </a></td><td>80 kg</td></tr></tbody></table>,\n",
       " <tbody><tr><td id=\"flight\">Flight No</td><td>Launch site</td> <td>Payload mass</td></tr><tr> <td>1</td><td><a href=\"https://en.wikipedia.org/wiki/Florida\">Florida</a><a></a></td><td>300 kg</td></tr><tr><td>2</td><td><a href=\"https://en.wikipedia.org/wiki/Texas\">Texas</a></td><td>94 kg</td></tr><tr><td>3</td><td><a href=\"https://en.wikipedia.org/wiki/Florida\">Florida</a><a> </a></td><td>80 kg</td></tr></tbody>,\n",
       " <tr><td id=\"flight\">Flight No</td><td>Launch site</td> <td>Payload mass</td></tr>,\n",
       " <td id=\"flight\">Flight No</td>,\n",
       " <td>Launch site</td>,\n",
       " <td>Payload mass</td>,\n",
       " <tr> <td>1</td><td><a href=\"https://en.wikipedia.org/wiki/Florida\">Florida</a><a></a></td><td>300 kg</td></tr>,\n",
       " <td>1</td>,\n",
       " <td><a href=\"https://en.wikipedia.org/wiki/Florida\">Florida</a><a></a></td>,\n",
       " <a></a>,\n",
       " <td>300 kg</td>,\n",
       " <tr><td>2</td><td><a href=\"https://en.wikipedia.org/wiki/Texas\">Texas</a></td><td>94 kg</td></tr>,\n",
       " <td>2</td>,\n",
       " <td><a href=\"https://en.wikipedia.org/wiki/Texas\">Texas</a></td>,\n",
       " <td>94 kg</td>,\n",
       " <tr><td>3</td><td><a href=\"https://en.wikipedia.org/wiki/Florida\">Florida</a><a> </a></td><td>80 kg</td></tr>,\n",
       " <td>3</td>,\n",
       " <td><a href=\"https://en.wikipedia.org/wiki/Florida\">Florida</a><a> </a></td>,\n",
       " <a> </a>,\n",
       " <td>80 kg</td>]"
      ]
     },
     "execution_count": 38,
     "metadata": {},
     "output_type": "execute_result"
    }
   ],
   "source": [
    "table_bs.find_all(href=False)"
   ]
  },
  {
   "cell_type": "markdown",
   "metadata": {},
   "source": [
    "<details><summary>Click here for the solution</summary>\n",
    "\n",
    "```\n",
    "table_bs.find_all(href=False)\n",
    "\n",
    "```\n",
    "\n",
    "</details>\n"
   ]
  },
  {
   "cell_type": "markdown",
   "metadata": {},
   "source": [
    "Using the soup object <code>soup</code>, find the element with the <code>id</code> attribute content set to <code>\"boldest\"</code>.\n"
   ]
  },
  {
   "cell_type": "code",
   "execution_count": 44,
   "metadata": {},
   "outputs": [
    {
     "data": {
      "text/plain": [
       "[<b id=\"boldest\">Lebron James</b>]"
      ]
     },
     "execution_count": 44,
     "metadata": {},
     "output_type": "execute_result"
    }
   ],
   "source": [
    "soup.find_all(id=\"boldest\")\n"
   ]
  },
  {
   "cell_type": "markdown",
   "metadata": {},
   "source": [
    "<details><summary>Click here for the solution</summary>\n",
    "\n",
    "```\n",
    "soup.find_all(id=\"boldest\")\n",
    "\n",
    "```\n",
    "\n",
    "</details>\n"
   ]
  },
  {
   "cell_type": "markdown",
   "metadata": {},
   "source": [
    "### string\n"
   ]
  },
  {
   "cell_type": "markdown",
   "metadata": {},
   "source": [
    "With string you can search for strings instead of tags, where we find all the elments with Florida:\n"
   ]
  },
  {
   "cell_type": "code",
   "execution_count": 45,
   "metadata": {},
   "outputs": [
    {
     "data": {
      "text/plain": [
       "['Florida', 'Florida']"
      ]
     },
     "execution_count": 45,
     "metadata": {},
     "output_type": "execute_result"
    }
   ],
   "source": [
    "table_bs.find_all(string=\"Florida\")"
   ]
  },
  {
   "cell_type": "markdown",
   "metadata": {},
   "source": [
    "## find\n"
   ]
  },
  {
   "cell_type": "markdown",
   "metadata": {},
   "source": [
    "The <code>find_all()</code> method scans the entire document looking for results. It’s useful if you are looking for one element, as you can use the <code>find()</code> method to find the first element in the document. Consider the following two tables:\n"
   ]
  },
  {
   "cell_type": "code",
   "execution_count": 46,
   "metadata": {},
   "outputs": [
    {
     "data": {
      "text/html": [
       "<h3>Rocket Launch </h3>\n",
       "\n",
       "<p>\n",
       "<table class='rocket'>\n",
       "  <tr>\n",
       "    <td>Flight No</td>\n",
       "    <td>Launch site</td> \n",
       "    <td>Payload mass</td>\n",
       "  </tr>\n",
       "  <tr>\n",
       "    <td>1</td>\n",
       "    <td>Florida</td>\n",
       "    <td>300 kg</td>\n",
       "  </tr>\n",
       "  <tr>\n",
       "    <td>2</td>\n",
       "    <td>Texas</td>\n",
       "    <td>94 kg</td>\n",
       "  </tr>\n",
       "  <tr>\n",
       "    <td>3</td>\n",
       "    <td>Florida </td>\n",
       "    <td>80 kg</td>\n",
       "  </tr>\n",
       "</table>\n",
       "</p>\n",
       "<p>\n",
       "\n",
       "<h3>Pizza Party  </h3>\n",
       "  \n",
       "    \n",
       "<table class='pizza'>\n",
       "  <tr>\n",
       "    <td>Pizza Place</td>\n",
       "    <td>Orders</td> \n",
       "    <td>Slices </td>\n",
       "   </tr>\n",
       "  <tr>\n",
       "    <td>Domino's Pizza</td>\n",
       "    <td>10</td>\n",
       "    <td>100</td>\n",
       "  </tr>\n",
       "  <tr>\n",
       "    <td>Little Caesars</td>\n",
       "    <td>12</td>\n",
       "    <td >144 </td>\n",
       "  </tr>\n",
       "  <tr>\n",
       "    <td>Papa John's </td>\n",
       "    <td>15 </td>\n",
       "    <td>165</td>\n",
       "  </tr>\n"
      ],
      "text/plain": [
       "<IPython.core.display.HTML object>"
      ]
     },
     "metadata": {},
     "output_type": "display_data"
    }
   ],
   "source": [
    "%%html\n",
    "<h3>Rocket Launch </h3>\n",
    "\n",
    "<p>\n",
    "<table class='rocket'>\n",
    "  <tr>\n",
    "    <td>Flight No</td>\n",
    "    <td>Launch site</td> \n",
    "    <td>Payload mass</td>\n",
    "  </tr>\n",
    "  <tr>\n",
    "    <td>1</td>\n",
    "    <td>Florida</td>\n",
    "    <td>300 kg</td>\n",
    "  </tr>\n",
    "  <tr>\n",
    "    <td>2</td>\n",
    "    <td>Texas</td>\n",
    "    <td>94 kg</td>\n",
    "  </tr>\n",
    "  <tr>\n",
    "    <td>3</td>\n",
    "    <td>Florida </td>\n",
    "    <td>80 kg</td>\n",
    "  </tr>\n",
    "</table>\n",
    "</p>\n",
    "<p>\n",
    "\n",
    "<h3>Pizza Party  </h3>\n",
    "  \n",
    "    \n",
    "<table class='pizza'>\n",
    "  <tr>\n",
    "    <td>Pizza Place</td>\n",
    "    <td>Orders</td> \n",
    "    <td>Slices </td>\n",
    "   </tr>\n",
    "  <tr>\n",
    "    <td>Domino's Pizza</td>\n",
    "    <td>10</td>\n",
    "    <td>100</td>\n",
    "  </tr>\n",
    "  <tr>\n",
    "    <td>Little Caesars</td>\n",
    "    <td>12</td>\n",
    "    <td >144 </td>\n",
    "  </tr>\n",
    "  <tr>\n",
    "    <td>Papa John's </td>\n",
    "    <td>15 </td>\n",
    "    <td>165</td>\n",
    "  </tr>\n"
   ]
  },
  {
   "cell_type": "markdown",
   "metadata": {},
   "source": [
    "We store the HTML as a Python string and assign <code>two_tables</code>:\n"
   ]
  },
  {
   "cell_type": "code",
   "execution_count": 47,
   "metadata": {},
   "outputs": [],
   "source": [
    "two_tables=\"<h3>Rocket Launch </h3><p><table class='rocket'><tr><td>Flight No</td><td>Launch site</td> <td>Payload mass</td></tr><tr><td>1</td><td>Florida</td><td>300 kg</td></tr><tr><td>2</td><td>Texas</td><td>94 kg</td></tr><tr><td>3</td><td>Florida </td><td>80 kg</td></tr></table></p><p><h3>Pizza Party  </h3><table class='pizza'><tr><td>Pizza Place</td><td>Orders</td> <td>Slices </td></tr><tr><td>Domino's Pizza</td><td>10</td><td>100</td></tr><tr><td>Little Caesars</td><td>12</td><td >144 </td></tr><tr><td>Papa John's </td><td>15 </td><td>165</td></tr>\""
   ]
  },
  {
   "cell_type": "markdown",
   "metadata": {},
   "source": [
    "We create a <code>BeautifulSoup</code> object  <code>two_tables_bs</code>\n"
   ]
  },
  {
   "cell_type": "code",
   "execution_count": 48,
   "metadata": {},
   "outputs": [],
   "source": [
    "two_tables_bs= BeautifulSoup(two_tables, 'html.parser')"
   ]
  },
  {
   "cell_type": "markdown",
   "metadata": {},
   "source": [
    "We can find the first table using the tag name table\n"
   ]
  },
  {
   "cell_type": "code",
   "execution_count": 49,
   "metadata": {},
   "outputs": [
    {
     "data": {
      "text/plain": [
       "<table class=\"rocket\"><tr><td>Flight No</td><td>Launch site</td> <td>Payload mass</td></tr><tr><td>1</td><td>Florida</td><td>300 kg</td></tr><tr><td>2</td><td>Texas</td><td>94 kg</td></tr><tr><td>3</td><td>Florida </td><td>80 kg</td></tr></table>"
      ]
     },
     "execution_count": 49,
     "metadata": {},
     "output_type": "execute_result"
    }
   ],
   "source": [
    "two_tables_bs.find(\"table\")"
   ]
  },
  {
   "cell_type": "markdown",
   "metadata": {},
   "source": [
    "We can filter on the class attribute to find the second table, but because class is a keyword in Python, we add an underscore to differentiate them.\n"
   ]
  },
  {
   "cell_type": "code",
   "execution_count": 50,
   "metadata": {},
   "outputs": [
    {
     "data": {
      "text/plain": [
       "<table class=\"pizza\"><tr><td>Pizza Place</td><td>Orders</td> <td>Slices </td></tr><tr><td>Domino's Pizza</td><td>10</td><td>100</td></tr><tr><td>Little Caesars</td><td>12</td><td>144 </td></tr><tr><td>Papa John's </td><td>15 </td><td>165</td></tr></table>"
      ]
     },
     "execution_count": 50,
     "metadata": {},
     "output_type": "execute_result"
    }
   ],
   "source": [
    "two_tables_bs.find(\"table\",class_='pizza')"
   ]
  },
  {
   "cell_type": "markdown",
   "metadata": {},
   "source": [
    "<h2 id=\"DSCW\">Downloading And Scraping The Contents Of A Web Page</h2> \n"
   ]
  },
  {
   "cell_type": "markdown",
   "metadata": {},
   "source": [
    "We Download the contents of the web page:\n"
   ]
  },
  {
   "cell_type": "code",
   "execution_count": 51,
   "metadata": {},
   "outputs": [],
   "source": [
    "url = \"http://www.ibm.com\""
   ]
  },
  {
   "cell_type": "markdown",
   "metadata": {},
   "source": [
    "We use <code>get</code> to download the contents of the webpage in text format and store in a variable called <code>data</code>:\n"
   ]
  },
  {
   "cell_type": "code",
   "execution_count": 52,
   "metadata": {},
   "outputs": [],
   "source": [
    "data  = requests.get(url).text "
   ]
  },
  {
   "cell_type": "markdown",
   "metadata": {},
   "source": [
    "We create a <code>BeautifulSoup</code> object using the <code>BeautifulSoup</code> constructor\n"
   ]
  },
  {
   "cell_type": "code",
   "execution_count": 53,
   "metadata": {},
   "outputs": [],
   "source": [
    "soup = BeautifulSoup(data,\"html5lib\")  # create a soup object using the variable 'data'"
   ]
  },
  {
   "cell_type": "code",
   "execution_count": 57,
   "metadata": {
    "tags": []
   },
   "outputs": [
    {
     "data": {
      "text/plain": [
       "'<!DOCTYPE html>\\n<html lang=\"en-us\">\\n <head>\\n  <meta charset=\"utf-8\"/>\\n  <meta content=\"en\" name=\"languageCode\"/>\\n  <meta content=\"us\" name=\"countryCode\"/>\\n  <meta content=\"No Contact Module\" name=\"focusArea\"/>\\n  <title>\\n   IBM - United States\\n  </title>\\n  <link href=\"/content/dam/adobe-cms/default-images/favicon.svg\" rel=\"icon\"/>\\n  <meta content=\"For more than a century, IBM has been a global technology innovator, leading advances in AI, automation and hybrid cloud solutions that help businesses grow.\" name=\"description\"/>\\n  <meta content=\"full-width-layout\" name=\"template\"/>\\n  <meta content=\"width=device-width, initial-scale=1\" name=\"viewport\"/>\\n  <meta content=\"index, follow\" name=\"robots\"/>\\n  <meta content=\"Data AI,Security,Demo,Cloud - Public Cloud Platform,Watson Health,AI Apps Sustainability,Future Use,Systems Hardware,Consulting,Future Use 2,Future Use 3,Future Use 4,Miscellaneous,Ecosystem,Cloud - Automation,Blockchain,Red Hat,Kyndryl,Cross IBM\" name=\"ibm.search.facet.field_keyword_01\"/>\\n  <link href=\"https://www.ibm.com/\" rel=\"canonical\"/>\\n  <style id=\"anti-flicker-style\">\\n   :not(:defined) {\\n          visibility: hidden;\\n        }\\n  </style>\\n  <script id=\"anti-flicker-script\" type=\"text/javascript\">\\n   (async () => {\\n          await customElements.whenDefined(\\'dds-masthead-container\\');\\n          document.getElementById(\\'anti-flicker-style\\').remove();\\n          document.getElementById(\\'anti-flicker-script\\').remove();\\n        })()\\n  </script>\\n  <script type=\"text/javascript\">\\n   window.searchTaxonomy = {\\n            templateName: \\'full\\\\u002Dwidth\\\\u002Dlayout\\',\\n            taxonomylist: \\'\\',\\n            L0Tag: \\'Contact Module Focus Areas,Topics Module Focus Area\\',\\n        }\\n  </script>\\n  <!--    <script>\\n      (function(s,t,a,n){s[t]||(s[t]=a,n=s[a]=function(){n.q.push(arguments)},\\n      n.q=[],n.v=2,n.l=1*new Date)})(window,\"InstanaEumObject\",\"ineum\");\\n      ineum(\\'reportingUrl\\', \\'https://eum-orange-saas.instana.io\\');\\n      ineum(\\'key\\', \\'QSUr0uqUS0m37yyre8ntkQ\\');\\n      ineum(\\'trackSessions\\');\\n    </script>\\n    <script defer crossorigin=\"anonymous\" src=\"https://eum.instana.io/eum.min.js\"></script>-->\\n  <link href=\"https://www.ibm.com/de-de\" hreflang=\"de-de\" rel=\"alternate\"/>\\n  <link href=\"https://www.ibm.com/\" hreflang=\"en-us\" rel=\"alternate\"/>\\n  <link href=\"https://www.ibm.com/ca-en\" hreflang=\"en-ca\" rel=\"alternate\"/>\\n  <link href=\"https://www.ibm.com/kr-ko\" hreflang=\"ko-kr\" rel=\"alternate\"/>\\n  <link href=\"https://www.ibm.com/br-pt\" hreflang=\"pt-br\" rel=\"alternate\"/>\\n  <link href=\"https://www.ibm.com/in-en\" hreflang=\"en-in\" rel=\"alternate\"/>\\n  <link href=\"https://www.ibm.com/es-es\" hreflang=\"es-es\" rel=\"alternate\"/>\\n  <link href=\"https://www.ibm.com/cn-zh\" hreflang=\"zh-cn\" rel=\"alternate\"/>\\n  <link href=\"https://www.ibm.com/mx-es\" hreflang=\"es-mx\" rel=\"alternate\"/>\\n  <link href=\"https://www.ibm.com/it-it\" hreflang=\"it-it\" rel=\"alternate\"/>\\n  <link href=\"https://www.ibm.com/id-id\" hreflang=\"id-id\" rel=\"alternate\"/>\\n  <link href=\"https://www.ibm.com/au-en\" hreflang=\"en-au\" rel=\"alternate\"/>\\n  <link href=\"https://www.ibm.com/uk-en\" hreflang=\"en-uk\" rel=\"alternate\"/>\\n  <link href=\"https://www.ibm.com/fr-fr\" hreflang=\"fr-fr\" rel=\"alternate\"/>\\n  <link href=\"https://www.ibm.com/jp-ja\" hreflang=\"ja-jp\" rel=\"alternate\"/>\\n  <script type=\"text/javascript\">\\n   window.antiFlicker = {\\n            active: true,\\n            timeout: 3000\\n        }\\n  </script>\\n  <script type=\"text/javascript\">\\n   var languageCode = document.getElementsByName(\\'languageCode\\')[0].content;\\n        var countryCode = document.getElementsByName(\\'countryCode\\')[0].content;\\n        var focusArea = document.getElementsByName(\\'focusArea\\')[0].content;\\n        /* Define digital data object based on _appInfo object */\\n        window.digitalData = {\\n            page: {\\n                category: {\\n                    primaryCategory: \\'\\',\\n                },\\n                pageInfo: {\\n                    language: languageCode + \\'-\\' + countryCode,\\n                    ibm: {\\n                        siteID: \\'MarketingAEM\\',\\n                        country: countryCode,\\n                        messaging: {\\n                            routing: {\\n                                focusArea: focusArea,\\n                                languageCode: languageCode,\\n                                regionCode: countryCode\\n                            },\\n                            translation: {\\n                                languageCode: languageCode,\\n                                regionCode: countryCode\\n                            }\\n                        },\\n                        sections: 0,\\n                        patterns: 0\\n                    }\\n                }\\n            }\\n        };\\n  </script>\\n  <meta content=\"https://www.ibm.com/\" property=\"og:url\"/>\\n  <meta content=\"website\" property=\"og:type\"/>\\n  <meta content=\"IBM - United States\" property=\"og:title\"/>\\n  <meta content=\"For more than a century, IBM has been a global technology innovator, leading advances in AI, automation and hybrid cloud solutions that help businesses grow.\" property=\"og:description\"/>\\n  <meta content=\"https://www.ibm.com/content/dam/adobe-cms/default-images/home-rail-01.jpg/_jcr_content/renditions/cq5dam.web.1280.1280.jpeg\" property=\"og:image\"/>\\n  <script async=\"async\" src=\"https://1.www.s81c.com/common/stats/ibm-common.js\" type=\"text/javascript\">\\n  </script>\\n  <script async=\"\" src=\"https://s3.us.cloud-object-storage.appdomain.cloud/widget-registry/loader.js\" type=\"application/javascript\">\\n  </script>\\n  <link href=\"/etc.clientlibs/adobe-cms/clientlibs/clientlib-idlStylesCarbon.min.ACSHASHd7a318481961867a09f465809b89e965.css\" rel=\"stylesheet\" type=\"text/css\"/>\\n  <link href=\"/etc.clientlibs/adobe-cms/clientlibs/clientlib-idlStyles.min.ACSHASHdad39f8a7b75894683534cddf145ae32.css\" rel=\"stylesheet\" type=\"text/css\"/>\\n  <link href=\"https://1.www.s81c.com/common/carbon-for-ibm-dotcom/tag/v1/latest/plex.css\" rel=\"stylesheet\"/>\\n  <link href=\"https://1.www.s81c.com/common/carbon/plex/sans.css\" rel=\"stylesheet\"/>\\n </head>\\n <body class=\"content-page page basicpage publish\" id=\"content-page-c8104b3589\">\\n  <div class=\"root container responsivegrid\">\\n   <div class=\"cmp-container\" id=\"container-9225520bd9\">\\n    <div class=\"masthead\">\\n     <dds-masthead-container auth-method=\"profile-api\" data-endpoint=\"/common/carbon-for-ibm-dotcom/translations/masthead-footer/v2\" has-contact=\"false\">\\n     </dds-masthead-container>\\n     <script src=\"https://1.www.s81c.com/common/carbon-for-ibm-dotcom/tag/v2/alpha/masthead.min.js\" type=\"module\">\\n     </script>\\n    </div>\\n    <div class=\"leadspace-container container responsivegrid\">\\n     <div class=\"cmp-container\" id=\"leadspace-container-1e918979ca\">\\n      <div class=\"leadspace-expanded leadspace\">\\n       <section class=\"theme-white\">\\n        <caem-container-leadspace size=\"super\">\\n         <caem-heading slot=\"heading\" type=\"h2\" type-style=\"display-01\">\\n          Multiply the power of AI with watsonx\\n         </caem-heading>\\n         <caem-paragraph data-autoid=\"caem--paragraph\" size=\"lead-in\">\\n          <p>\\n           IBM’s next-generation AI and data platform is now available for free trial\\n          </p>\\n         </caem-paragraph>\\n         <caem-button-group slot=\"action\">\\n          <caem-button-cta cta-type=\"local\" href=\"https://www.ibm.com/watsonx\" kind=\"primary\" target=\"_self\">\\n           <span>\\n            Explore watsonx\\n           </span>\\n          </caem-button-cta>\\n          <caem-button-cta cta-type=\"local\" href=\"https://dataplatform.cloud.ibm.com/registration/stepone?context=wx&amp;adoper=209409_0_LS2\" kind=\"tertiary\" target=\"_blank\">\\n           <span>\\n            Try watsonx for free\\n           </span>\\n          </caem-button-cta>\\n         </caem-button-group>\\n         <caem-image-with-caption alt=\"Illustration of concentric paper circles representing the power of AI\" caption-alignment=\"left\" default-src=\"/content/dam/connectedassets-adobe-cms/worldwide-content/creative-assets/s-migr/ul/g/75/75/watsonx-overview-leadspace-super-hybrid-ui-homepage.component.crop-1by1-xl.ts=1698245285232.png/content/adobe-cms/us/en/homepage/jcr:content/root/leadspace_container/leadspace_expanded\" id=\"image--682787962\" slot=\"media\">\\n          <dds-image-item media=\"(min-width: 1312px) and (min-resolution: 192dpi)\" srcset=\"/content/dam/connectedassets-adobe-cms/worldwide-content/creative-assets/s-migr/ul/g/75/75/watsonx-overview-leadspace-super-hybrid-ui-homepage.component.crop-1by1-xl-retina.ts=1698245285232.png/content/adobe-cms/us/en/homepage/jcr:content/root/leadspace_container/leadspace_expanded\">\\n          </dds-image-item>\\n          <dds-image-item media=\"(min-width: 1312px)\" srcset=\"/content/dam/connectedassets-adobe-cms/worldwide-content/creative-assets/s-migr/ul/g/75/75/watsonx-overview-leadspace-super-hybrid-ui-homepage.component.crop-1by1-xl.ts=1698245285232.png/content/adobe-cms/us/en/homepage/jcr:content/root/leadspace_container/leadspace_expanded\">\\n          </dds-image-item>\\n          <dds-image-item media=\"(min-width: 1056px) and (min-resolution: 192dpi)\" srcset=\"/content/dam/connectedassets-adobe-cms/worldwide-content/creative-assets/s-migr/ul/g/75/75/watsonx-overview-leadspace-super-hybrid-ui-homepage.component.crop-1by1-l-retina.ts=1698245285232.png/content/adobe-cms/us/en/homepage/jcr:content/root/leadspace_container/leadspace_expanded\">\\n          </dds-image-item>\\n          <dds-image-item media=\"(min-width: 1056px)\" srcset=\"/content/dam/connectedassets-adobe-cms/worldwide-content/creative-assets/s-migr/ul/g/75/75/watsonx-overview-leadspace-super-hybrid-ui-homepage.component.crop-1by1-l.ts=1698245285232.png/content/adobe-cms/us/en/homepage/jcr:content/root/leadspace_container/leadspace_expanded\">\\n          </dds-image-item>\\n          <dds-image-item media=\"(min-width: 672px) and (min-resolution: 192dpi)\" srcset=\"/content/dam/connectedassets-adobe-cms/worldwide-content/creative-assets/s-migr/ul/g/75/75/watsonx-overview-leadspace-super-hybrid-ui-homepage.component.crop-1by1-m-retina.ts=1698245285232.png/content/adobe-cms/us/en/homepage/jcr:content/root/leadspace_container/leadspace_expanded\">\\n          </dds-image-item>\\n          <dds-image-item media=\"(min-width: 672px)\" srcset=\"/content/dam/connectedassets-adobe-cms/worldwide-content/creative-assets/s-migr/ul/g/75/75/watsonx-overview-leadspace-super-hybrid-ui-homepage.component.crop-1by1-m.ts=1698245285232.png/content/adobe-cms/us/en/homepage/jcr:content/root/leadspace_container/leadspace_expanded\">\\n          </dds-image-item>\\n          <dds-image-item media=\"(min-width: 481px) and (min-resolution: 192dpi)\" srcset=\"/content/dam/connectedassets-adobe-cms/worldwide-content/creative-assets/s-migr/ul/g/75/75/watsonx-overview-leadspace-super-hybrid-ui-homepage.component.crop-1by1-s-retina.ts=1698245285232.png/content/adobe-cms/us/en/homepage/jcr:content/root/leadspace_container/leadspace_expanded\">\\n          </dds-image-item>\\n          <dds-image-item media=\"(min-width: 481px)\" srcset=\"/content/dam/connectedassets-adobe-cms/worldwide-content/creative-assets/s-migr/ul/g/75/75/watsonx-overview-leadspace-super-hybrid-ui-homepage.component.crop-1by1-s.ts=1698245285232.png/content/adobe-cms/us/en/homepage/jcr:content/root/leadspace_container/leadspace_expanded\">\\n          </dds-image-item>\\n          <dds-image-item media=\"(max-width: 480px) and (min-resolution: 192dpi)\" srcset=\"/content/dam/connectedassets-adobe-cms/worldwide-content/creative-assets/s-migr/ul/g/75/75/watsonx-overview-leadspace-super-hybrid-ui-homepage.component.crop-1by1-xs-retina.ts=1698245285232.png/content/adobe-cms/us/en/homepage/jcr:content/root/leadspace_container/leadspace_expanded\">\\n          </dds-image-item>\\n          <dds-image-item media=\"(max-width: 480px)\" srcset=\"/content/dam/connectedassets-adobe-cms/worldwide-content/creative-assets/s-migr/ul/g/75/75/watsonx-overview-leadspace-super-hybrid-ui-homepage.component.crop-1by1-xs.ts=1698245285232.png/content/adobe-cms/us/en/homepage/jcr:content/root/leadspace_container/leadspace_expanded\">\\n          </dds-image-item>\\n         </caem-image-with-caption>\\n         <dds-link-list slot=\"aside\">\\n          <dds-link-list-heading aria-level=\"4\" role=\"heading\" slot=\"heading\">\\n          </dds-link-list-heading>\\n          <caem-link-list-item cta-type=\"local\" href=\"https://newsroom.ibm.com/IBM-acquires-Manta-Software-Inc-to-complement-data-and-AI-governance-capabilities\" label=\"Latest news\" target=\"_self\">\\n           <p>\\n            IBM acquires data lineage software firm, Manta, boosting AI and data governance capabilities\\n           </p>\\n           <dds-card-cta-footer cta-type=\"local\" href=\"https://newsroom.ibm.com/IBM-acquires-Manta-Software-Inc-to-complement-data-and-AI-governance-capabilities\" target=\"_self\">\\n           </dds-card-cta-footer>\\n          </caem-link-list-item>\\n          <script src=\"https://1.www.s81c.com/common/carbon/carbon-for-aem/version/v0.8.1/link-list-item.min.js\" type=\"module\">\\n          </script>\\n          <caem-link-list-item cta-type=\"external\" href=\"https://ibm.webcasts.com/starthere.jsp?ei=1630167&amp;tp_key=ab47307d4a\" label=\"Free webcast\" target=\"_blank\">\\n           <p>\\n            How generative AI can speed app modernization\\n           </p>\\n           <dds-card-cta-footer cta-type=\"external\" href=\"https://ibm.webcasts.com/starthere.jsp?ei=1630167&amp;tp_key=ab47307d4a\" target=\"_blank\">\\n           </dds-card-cta-footer>\\n          </caem-link-list-item>\\n          <script src=\"https://1.www.s81c.com/common/carbon/carbon-for-aem/version/v0.8.1/link-list-item.min.js\" type=\"module\">\\n          </script>\\n         </dds-link-list>\\n        </caem-container-leadspace>\\n       </section>\\n       <script src=\"https://1.www.s81c.com/common/carbon/carbon-for-aem/version/v0.8.1/paragraph.min.js\" type=\"module\">\\n       </script>\\n       <script src=\"https://1.www.s81c.com/common/carbon/carbon-for-aem/version/v0.8.1/heading.min.js\" type=\"module\">\\n       </script>\\n       <script src=\"https://1.www.s81c.com/common/carbon/carbon-for-aem/version/v0.8.1/leadspace.min.js\" type=\"module\">\\n       </script>\\n      </div>\\n     </div>\\n    </div>\\n    <div class=\"table-of-contents container responsivegrid\">\\n     <dds-table-of-contents class=\"cmp-table-of-contents\" data-autoid=\"dds--table-of-contents\" data-cmp-is=\"table-of-contents\" stickyoffset=\"48\" toc-hide=\"hidden\" toc-layout=\"horizontal\">\\n      <div class=\"cmp-table-of-contents\" id=\"table-of-contents-b422012d4b\">\\n       <div class=\"modular-container container responsivegrid\">\\n        <div class=\"cmp-container\" id=\"modular-container-5d1eac4ca1\">\\n         <div class=\"standalone-title enhanced-title text\">\\n          <caem-heading type=\"h5\">\\n           Recommended for you\\n           <br/>\\n          </caem-heading>\\n          <script src=\"https://1.www.s81c.com/common/carbon/carbon-for-aem/version/v0.8.1/heading.min.js\" type=\"module\">\\n          </script>\\n         </div>\\n        </div>\\n       </div>\\n       <div class=\"tile-group-container container responsivegrid\">\\n        <div class=\"bx--col\">\\n         <caem-tile-group>\\n          <caem-tile cta-type=\"local\" href=\"https://www.ibm.com/account/reg/signup?formid=DEMO-dataaiwatsonxai\" label=\"Build AI models\" target=\"_self\">\\n           <dds-image alt=\"Preview of a watsonx dashboard\" default-src=\"/content/dam/adobe-cms/default-images/home-rail-01.component.tile-card-xl.ts=1698245286279.jpg/content/adobe-cms/us/en/homepage/jcr:content/root/table_of_contents/tile_group_container/container/tile_card/image\" id=\"image--479932365\" slot=\"image\">\\n            <dds-image-item media=\"(min-width: 1312px) and (min-resolution: 192dpi)\" srcset=\"/content/dam/adobe-cms/default-images/home-rail-01.component.tile-card-xl-retina.ts=1698245286279.jpg/content/adobe-cms/us/en/homepage/jcr:content/root/table_of_contents/tile_group_container/container/tile_card/image\">\\n            </dds-image-item>\\n            <dds-image-item media=\"(min-width: 1312px)\" srcset=\"/content/dam/adobe-cms/default-images/home-rail-01.component.tile-card-xl.ts=1698245286279.jpg/content/adobe-cms/us/en/homepage/jcr:content/root/table_of_contents/tile_group_container/container/tile_card/image\">\\n            </dds-image-item>\\n            <dds-image-item media=\"(min-width: 1056px) and (min-resolution: 192dpi)\" srcset=\"/content/dam/adobe-cms/default-images/home-rail-01.component.tile-card-l-retina.ts=1698245286279.jpg/content/adobe-cms/us/en/homepage/jcr:content/root/table_of_contents/tile_group_container/container/tile_card/image\">\\n            </dds-image-item>\\n            <dds-image-item media=\"(min-width: 1056px)\" srcset=\"/content/dam/adobe-cms/default-images/home-rail-01.component.tile-card-l.ts=1698245286279.jpg/content/adobe-cms/us/en/homepage/jcr:content/root/table_of_contents/tile_group_container/container/tile_card/image\">\\n            </dds-image-item>\\n            <dds-image-item media=\"(min-width: 672px) and (min-resolution: 192dpi)\" srcset=\"/content/dam/adobe-cms/default-images/home-rail-01.component.tile-card-m-retina.ts=1698245286279.jpg/content/adobe-cms/us/en/homepage/jcr:content/root/table_of_contents/tile_group_container/container/tile_card/image\">\\n            </dds-image-item>\\n            <dds-image-item media=\"(min-width: 672px)\" srcset=\"/content/dam/adobe-cms/default-images/home-rail-01.component.tile-card-m.ts=1698245286279.jpg/content/adobe-cms/us/en/homepage/jcr:content/root/table_of_contents/tile_group_container/container/tile_card/image\">\\n            </dds-image-item>\\n            <dds-image-item media=\"(min-width: 481px) and (min-resolution: 192dpi)\" srcset=\"/content/dam/adobe-cms/default-images/home-rail-01.component.tile-card-s-retina.ts=1698245286279.jpg/content/adobe-cms/us/en/homepage/jcr:content/root/table_of_contents/tile_group_container/container/tile_card/image\">\\n            </dds-image-item>\\n            <dds-image-item media=\"(min-width: 481px)\" srcset=\"/content/dam/adobe-cms/default-images/home-rail-01.component.tile-card-s.ts=1698245286279.jpg/content/adobe-cms/us/en/homepage/jcr:content/root/table_of_contents/tile_group_container/container/tile_card/image\">\\n            </dds-image-item>\\n            <dds-image-item media=\"(max-width: 480px) and (min-resolution: 192dpi)\" srcset=\"/content/dam/adobe-cms/default-images/home-rail-01.component.tile-card-xs-retina.ts=1698245286279.jpg/content/adobe-cms/us/en/homepage/jcr:content/root/table_of_contents/tile_group_container/container/tile_card/image\">\\n            </dds-image-item>\\n            <dds-image-item media=\"(max-width: 480px)\" srcset=\"/content/dam/adobe-cms/default-images/home-rail-01.component.tile-card-xs.ts=1698245286279.jpg/content/adobe-cms/us/en/homepage/jcr:content/root/table_of_contents/tile_group_container/container/tile_card/image\">\\n            </dds-image-item>\\n           </dds-image>\\n           Book a live demo for watsonx.ai\\n           <p slot=\"cta\">\\n           </p>\\n          </caem-tile>\\n          <div class=\"caem-card-svg-source\" hidden=\"\">\\n          </div>\\n          <script src=\"https://1.www.s81c.com/common/carbon/carbon-for-aem/version/v0.8.1/tile.min.js\" type=\"module\">\\n          </script>\\n          <caem-tile cta-type=\"local\" href=\"https://www.ibm.com/products/storage-protect-for-cloud\" label=\"IBM Storage Protect\" target=\"_self\">\\n           <dds-image alt=\"An illustration of IBM Storage Protect\" default-src=\"/content/dam/connectedassets-adobe-cms/worldwide-content/homepage/ul/g/72/54/storage-protect-p0c6278d1922da841.component.tile-card-xl.ts=1698245286480.jpg/content/adobe-cms/us/en/homepage/jcr:content/root/table_of_contents/tile_group_container/container/tile_card_2105644765/image\" id=\"image--4832344\" slot=\"image\">\\n            <dds-image-item media=\"(min-width: 1312px) and (min-resolution: 192dpi)\" srcset=\"/content/dam/connectedassets-adobe-cms/worldwide-content/homepage/ul/g/72/54/storage-protect-p0c6278d1922da841.component.tile-card-xl-retina.ts=1698245286480.jpg/content/adobe-cms/us/en/homepage/jcr:content/root/table_of_contents/tile_group_container/container/tile_card_2105644765/image\">\\n            </dds-image-item>\\n            <dds-image-item media=\"(min-width: 1312px)\" srcset=\"/content/dam/connectedassets-adobe-cms/worldwide-content/homepage/ul/g/72/54/storage-protect-p0c6278d1922da841.component.tile-card-xl.ts=1698245286480.jpg/content/adobe-cms/us/en/homepage/jcr:content/root/table_of_contents/tile_group_container/container/tile_card_2105644765/image\">\\n            </dds-image-item>\\n            <dds-image-item media=\"(min-width: 1056px) and (min-resolution: 192dpi)\" srcset=\"/content/dam/connectedassets-adobe-cms/worldwide-content/homepage/ul/g/72/54/storage-protect-p0c6278d1922da841.component.tile-card-l-retina.ts=1698245286480.jpg/content/adobe-cms/us/en/homepage/jcr:content/root/table_of_contents/tile_group_container/container/tile_card_2105644765/image\">\\n            </dds-image-item>\\n            <dds-image-item media=\"(min-width: 1056px)\" srcset=\"/content/dam/connectedassets-adobe-cms/worldwide-content/homepage/ul/g/72/54/storage-protect-p0c6278d1922da841.component.tile-card-l.ts=1698245286480.jpg/content/adobe-cms/us/en/homepage/jcr:content/root/table_of_contents/tile_group_container/container/tile_card_2105644765/image\">\\n            </dds-image-item>\\n            <dds-image-item media=\"(min-width: 672px) and (min-resolution: 192dpi)\" srcset=\"/content/dam/connectedassets-adobe-cms/worldwide-content/homepage/ul/g/72/54/storage-protect-p0c6278d1922da841.component.tile-card-m-retina.ts=1698245286480.jpg/content/adobe-cms/us/en/homepage/jcr:content/root/table_of_contents/tile_group_container/container/tile_card_2105644765/image\">\\n            </dds-image-item>\\n            <dds-image-item media=\"(min-width: 672px)\" srcset=\"/content/dam/connectedassets-adobe-cms/worldwide-content/homepage/ul/g/72/54/storage-protect-p0c6278d1922da841.component.tile-card-m.ts=1698245286480.jpg/content/adobe-cms/us/en/homepage/jcr:content/root/table_of_contents/tile_group_container/container/tile_card_2105644765/image\">\\n            </dds-image-item>\\n            <dds-image-item media=\"(min-width: 481px) and (min-resolution: 192dpi)\" srcset=\"/content/dam/connectedassets-adobe-cms/worldwide-content/homepage/ul/g/72/54/storage-protect-p0c6278d1922da841.component.tile-card-s-retina.ts=1698245286480.jpg/content/adobe-cms/us/en/homepage/jcr:content/root/table_of_contents/tile_group_container/container/tile_card_2105644765/image\">\\n            </dds-image-item>\\n            <dds-image-item media=\"(min-width: 481px)\" srcset=\"/content/dam/connectedassets-adobe-cms/worldwide-content/homepage/ul/g/72/54/storage-protect-p0c6278d1922da841.component.tile-card-s.ts=1698245286480.jpg/content/adobe-cms/us/en/homepage/jcr:content/root/table_of_contents/tile_group_container/container/tile_card_2105644765/image\">\\n            </dds-image-item>\\n            <dds-image-item media=\"(max-width: 480px) and (min-resolution: 192dpi)\" srcset=\"/content/dam/connectedassets-adobe-cms/worldwide-content/homepage/ul/g/72/54/storage-protect-p0c6278d1922da841.component.tile-card-xs-retina.ts=1698245286480.jpg/content/adobe-cms/us/en/homepage/jcr:content/root/table_of_contents/tile_group_container/container/tile_card_2105644765/image\">\\n            </dds-image-item>\\n            <dds-image-item media=\"(max-width: 480px)\" srcset=\"/content/dam/connectedassets-adobe-cms/worldwide-content/homepage/ul/g/72/54/storage-protect-p0c6278d1922da841.component.tile-card-xs.ts=1698245286480.jpg/content/adobe-cms/us/en/homepage/jcr:content/root/table_of_contents/tile_group_container/container/tile_card_2105644765/image\">\\n            </dds-image-item>\\n           </dds-image>\\n           Protect your cloud applications\\n           <p slot=\"cta\">\\n           </p>\\n          </caem-tile>\\n          <div class=\"caem-card-svg-source\" hidden=\"\">\\n           <svg id=\"accelerated-computing\" viewBox=\"0 0 32 32\" xmlns=\"http://www.w3.org/2000/svg\">\\n            <path d=\"M19,29.36c-3.401,0-6.596-1.506-8.764-4.131l0.556-0.459c2.03,2.459,5.022,3.869,8.208,3.869 c5.867,0,10.64-4.772,10.64-10.64c0-5.867-4.772-10.64-10.64-10.64c-3.186,0-6.177,1.411-8.208,3.87l-0.555-0.459 c2.091-2.532,5.137-4.022,8.403-4.125V5.36H16c-0.199,0-0.36-0.161-0.36-0.36V3c0-0.199,0.161-0.36,0.36-0.36h6 c0.199,0,0.36,0.161,0.36,0.36v2c0,0.199-0.161,0.36-0.36,0.36h-2.64v1.286c6.098,0.191,11,5.211,11,11.354 C30.36,24.264,25.264,29.36,19,29.36z M16.36,4.64h5.28V3.36h-5.28V4.64z M14,23.36H4v-0.72h10V23.36z M12,18.36H2v-0.72h10V18.36z M19.179,18.312l-0.357-0.625l7-4l0.357,0.625L19.179,18.312z M14,13.36H4v-0.72h10V13.36z\">\\n            </path>\\n           </svg>\\n          </div>\\n          <script src=\"https://1.www.s81c.com/common/carbon/carbon-for-aem/version/v0.8.1/tile.min.js\" type=\"module\">\\n          </script>\\n          <caem-tile cta-type=\"local\" href=\"https://www.ibm.com/products/spss-statistics/pricing?lnk=cardT\" label=\"Buy now\" target=\"_self\">\\n           <dds-image alt=\"Illustration of colleagues viewing a giant dashboard\" default-src=\"/content/dam/connectedassets-adobe-cms/worldwide-content/homepage/ul/g/a7/33/ibm-SPSS-home-card.component.tile-card-xl.ts=1698245286667.png/content/adobe-cms/us/en/homepage/jcr:content/root/table_of_contents/tile_group_container/container/tile_card_392377621/image\" id=\"image-1315570178\" slot=\"image\">\\n            <dds-image-item media=\"(min-width: 1312px) and (min-resolution: 192dpi)\" srcset=\"/content/dam/connectedassets-adobe-cms/worldwide-content/homepage/ul/g/a7/33/ibm-SPSS-home-card.component.tile-card-xl-retina.ts=1698245286667.png/content/adobe-cms/us/en/homepage/jcr:content/root/table_of_contents/tile_group_container/container/tile_card_392377621/image\">\\n            </dds-image-item>\\n            <dds-image-item media=\"(min-width: 1312px)\" srcset=\"/content/dam/connectedassets-adobe-cms/worldwide-content/homepage/ul/g/a7/33/ibm-SPSS-home-card.component.tile-card-xl.ts=1698245286667.png/content/adobe-cms/us/en/homepage/jcr:content/root/table_of_contents/tile_group_container/container/tile_card_392377621/image\">\\n            </dds-image-item>\\n            <dds-image-item media=\"(min-width: 1056px) and (min-resolution: 192dpi)\" srcset=\"/content/dam/connectedassets-adobe-cms/worldwide-content/homepage/ul/g/a7/33/ibm-SPSS-home-card.component.tile-card-l-retina.ts=1698245286667.png/content/adobe-cms/us/en/homepage/jcr:content/root/table_of_contents/tile_group_container/container/tile_card_392377621/image\">\\n            </dds-image-item>\\n            <dds-image-item media=\"(min-width: 1056px)\" srcset=\"/content/dam/connectedassets-adobe-cms/worldwide-content/homepage/ul/g/a7/33/ibm-SPSS-home-card.component.tile-card-l.ts=1698245286667.png/content/adobe-cms/us/en/homepage/jcr:content/root/table_of_contents/tile_group_container/container/tile_card_392377621/image\">\\n            </dds-image-item>\\n            <dds-image-item media=\"(min-width: 672px) and (min-resolution: 192dpi)\" srcset=\"/content/dam/connectedassets-adobe-cms/worldwide-content/homepage/ul/g/a7/33/ibm-SPSS-home-card.component.tile-card-m-retina.ts=1698245286667.png/content/adobe-cms/us/en/homepage/jcr:content/root/table_of_contents/tile_group_container/container/tile_card_392377621/image\">\\n            </dds-image-item>\\n            <dds-image-item media=\"(min-width: 672px)\" srcset=\"/content/dam/connectedassets-adobe-cms/worldwide-content/homepage/ul/g/a7/33/ibm-SPSS-home-card.component.tile-card-m.ts=1698245286667.png/content/adobe-cms/us/en/homepage/jcr:content/root/table_of_contents/tile_group_container/container/tile_card_392377621/image\">\\n            </dds-image-item>\\n            <dds-image-item media=\"(min-width: 481px) and (min-resolution: 192dpi)\" srcset=\"/content/dam/connectedassets-adobe-cms/worldwide-content/homepage/ul/g/a7/33/ibm-SPSS-home-card.component.tile-card-s-retina.ts=1698245286667.png/content/adobe-cms/us/en/homepage/jcr:content/root/table_of_contents/tile_group_container/container/tile_card_392377621/image\">\\n            </dds-image-item>\\n            <dds-image-item media=\"(min-width: 481px)\" srcset=\"/content/dam/connectedassets-adobe-cms/worldwide-content/homepage/ul/g/a7/33/ibm-SPSS-home-card.component.tile-card-s.ts=1698245286667.png/content/adobe-cms/us/en/homepage/jcr:content/root/table_of_contents/tile_group_container/container/tile_card_392377621/image\">\\n            </dds-image-item>\\n            <dds-image-item media=\"(max-width: 480px) and (min-resolution: 192dpi)\" srcset=\"/content/dam/connectedassets-adobe-cms/worldwide-content/homepage/ul/g/a7/33/ibm-SPSS-home-card.component.tile-card-xs-retina.ts=1698245286667.png/content/adobe-cms/us/en/homepage/jcr:content/root/table_of_contents/tile_group_container/container/tile_card_392377621/image\">\\n            </dds-image-item>\\n            <dds-image-item media=\"(max-width: 480px)\" srcset=\"/content/dam/connectedassets-adobe-cms/worldwide-content/homepage/ul/g/a7/33/ibm-SPSS-home-card.component.tile-card-xs.ts=1698245286667.png/content/adobe-cms/us/en/homepage/jcr:content/root/table_of_contents/tile_group_container/container/tile_card_392377621/image\">\\n            </dds-image-item>\\n           </dds-image>\\n           Save 10% on SPSS Statistics subscription\\n           <p slot=\"cta\">\\n           </p>\\n          </caem-tile>\\n          <div class=\"caem-card-svg-source\" hidden=\"\">\\n          </div>\\n          <script src=\"https://1.www.s81c.com/common/carbon/carbon-for-aem/version/v0.8.1/tile.min.js\" type=\"module\">\\n          </script>\\n          <caem-tile cta-type=\"local\" href=\"https://www.ibm.com/products/maas360/pricing?lnk=cardT\" label=\"Buy now\" target=\"_self\">\\n           <dds-image alt=\"Illustration of multiple devices powered by one network\" default-src=\"/content/dam/connectedassets-adobe-cms/worldwide-content/pm/ul/g/55/a9/maas360_native.component.tile-card-xl.ts=1698245286988.png/content/adobe-cms/us/en/homepage/jcr:content/root/table_of_contents/tile_group_container/container/tile_card_1699798462/image\" id=\"image--267087229\" slot=\"image\">\\n            <dds-image-item media=\"(min-width: 1312px) and (min-resolution: 192dpi)\" srcset=\"/content/dam/connectedassets-adobe-cms/worldwide-content/pm/ul/g/55/a9/maas360_native.component.tile-card-xl-retina.ts=1698245286988.png/content/adobe-cms/us/en/homepage/jcr:content/root/table_of_contents/tile_group_container/container/tile_card_1699798462/image\">\\n            </dds-image-item>\\n            <dds-image-item media=\"(min-width: 1312px)\" srcset=\"/content/dam/connectedassets-adobe-cms/worldwide-content/pm/ul/g/55/a9/maas360_native.component.tile-card-xl.ts=1698245286988.png/content/adobe-cms/us/en/homepage/jcr:content/root/table_of_contents/tile_group_container/container/tile_card_1699798462/image\">\\n            </dds-image-item>\\n            <dds-image-item media=\"(min-width: 1056px) and (min-resolution: 192dpi)\" srcset=\"/content/dam/connectedassets-adobe-cms/worldwide-content/pm/ul/g/55/a9/maas360_native.component.tile-card-l-retina.ts=1698245286988.png/content/adobe-cms/us/en/homepage/jcr:content/root/table_of_contents/tile_group_container/container/tile_card_1699798462/image\">\\n            </dds-image-item>\\n            <dds-image-item media=\"(min-width: 1056px)\" srcset=\"/content/dam/connectedassets-adobe-cms/worldwide-content/pm/ul/g/55/a9/maas360_native.component.tile-card-l.ts=1698245286988.png/content/adobe-cms/us/en/homepage/jcr:content/root/table_of_contents/tile_group_container/container/tile_card_1699798462/image\">\\n            </dds-image-item>\\n            <dds-image-item media=\"(min-width: 672px) and (min-resolution: 192dpi)\" srcset=\"/content/dam/connectedassets-adobe-cms/worldwide-content/pm/ul/g/55/a9/maas360_native.component.tile-card-m-retina.ts=1698245286988.png/content/adobe-cms/us/en/homepage/jcr:content/root/table_of_contents/tile_group_container/container/tile_card_1699798462/image\">\\n            </dds-image-item>\\n            <dds-image-item media=\"(min-width: 672px)\" srcset=\"/content/dam/connectedassets-adobe-cms/worldwide-content/pm/ul/g/55/a9/maas360_native.component.tile-card-m.ts=1698245286988.png/content/adobe-cms/us/en/homepage/jcr:content/root/table_of_contents/tile_group_container/container/tile_card_1699798462/image\">\\n            </dds-image-item>\\n            <dds-image-item media=\"(min-width: 481px) and (min-resolution: 192dpi)\" srcset=\"/content/dam/connectedassets-adobe-cms/worldwide-content/pm/ul/g/55/a9/maas360_native.component.tile-card-s-retina.ts=1698245286988.png/content/adobe-cms/us/en/homepage/jcr:content/root/table_of_contents/tile_group_container/container/tile_card_1699798462/image\">\\n            </dds-image-item>\\n            <dds-image-item media=\"(min-width: 481px)\" srcset=\"/content/dam/connectedassets-adobe-cms/worldwide-content/pm/ul/g/55/a9/maas360_native.component.tile-card-s.ts=1698245286988.png/content/adobe-cms/us/en/homepage/jcr:content/root/table_of_contents/tile_group_container/container/tile_card_1699798462/image\">\\n            </dds-image-item>\\n            <dds-image-item media=\"(max-width: 480px) and (min-resolution: 192dpi)\" srcset=\"/content/dam/connectedassets-adobe-cms/worldwide-content/pm/ul/g/55/a9/maas360_native.component.tile-card-xs-retina.ts=1698245286988.png/content/adobe-cms/us/en/homepage/jcr:content/root/table_of_contents/tile_group_container/container/tile_card_1699798462/image\">\\n            </dds-image-item>\\n            <dds-image-item media=\"(max-width: 480px)\" srcset=\"/content/dam/connectedassets-adobe-cms/worldwide-content/pm/ul/g/55/a9/maas360_native.component.tile-card-xs.ts=1698245286988.png/content/adobe-cms/us/en/homepage/jcr:content/root/table_of_contents/tile_group_container/container/tile_card_1699798462/image\">\\n            </dds-image-item>\\n           </dds-image>\\n           Save 10% on any MaaS360 plan through Dec. 31\\n           <p slot=\"cta\">\\n           </p>\\n          </caem-tile>\\n          <div class=\"caem-card-svg-source\" hidden=\"\">\\n          </div>\\n          <script src=\"https://1.www.s81c.com/common/carbon/carbon-for-aem/version/v0.8.1/tile.min.js\" type=\"module\">\\n          </script>\\n         </caem-tile-group>\\n        </div>\\n        <script src=\"https://1.www.s81c.com/common/carbon/carbon-for-aem/version/v0.8.1/tile.min.js\" type=\"module\">\\n        </script>\\n       </div>\\n       <div class=\"intro-section\">\\n        <div class=\"bx--col\">\\n         <caem-intro-section>\\n          <caem-heading data-autoid=\"caem-heading\" slot=\"heading\" type=\"h2\" type-style=\"expressive-heading-05\">\\n           Browse our technology\\n          </caem-heading>\\n          <caem-paragraph data-autoid=\"caem--paragraph\" size=\"lead-in\">\\n           <div class=\"cms-richtext\" data-dynamic-inner-content=\"description\" id=\"rich-text-c26afb5940\">\\n            <p>\\n             From our flagship products for enterprise\\n             <a href=\"https://www.ibm.com/cloud?lnk=intro\">\\n              hybrid cloud infrastructure\\n             </a>\\n             to next-generation AI, security and storage solutions, find the answer to your business challenge.\\n            </p>\\n           </div>\\n          </caem-paragraph>\\n          <dds-link-list type=\"vertical\">\\n           <dds-video-cta-container>\\n            <dds-link-list-item-cta cta-type=\"local\" href=\"https://www.ibm.com/products?lnk=intro\" icon-placement=\"right\" role=\"listitem\" target=\"_self\">\\n             View all products\\n            </dds-link-list-item-cta>\\n           </dds-video-cta-container>\\n           <dds-video-cta-container>\\n            <dds-link-list-item-cta cta-type=\"local\" href=\"https://www.ibm.com/products/offers-and-discounts\" icon-placement=\"right\" role=\"listitem\" target=\"_self\">\\n             Shop special offers and discounts\\n            </dds-link-list-item-cta>\\n           </dds-video-cta-container>\\n          </dds-link-list>\\n         </caem-intro-section>\\n        </div>\\n        <script src=\"https://1.www.s81c.com/common/carbon/carbon-for-aem/version/v0.8.1/paragraph.min.js\" type=\"module\">\\n        </script>\\n        <script src=\"https://1.www.s81c.com/common/carbon/carbon-for-aem/version/v0.8.1/heading.min.js\" type=\"module\">\\n        </script>\\n        <script src=\"https://1.www.s81c.com/common/carbon/carbon-for-aem/version/v0.8.1/intro-section.min.js\" type=\"module\">\\n        </script>\\n        <script src=\"https://1.www.s81c.com/common/carbon/carbon-for-aem/version/v0.8.1/brand-cta-section.min.js\" type=\"module\">\\n        </script>\\n       </div>\\n       <div class=\"card-group-pictogram-full-width card-group-pictogram\">\\n        <div class=\"bx--content-block\">\\n         <caem-card-group cards-per-row=\"4\" data-autoid=\"dds--card-group\" grid-mode=\"border\" style=\"--dds--card-group--cards-in-row:4\">\\n          <caem-card color-scheme=\"\" cta-type=\"local\" data-autoid=\"caem--card\" href=\"https://www.ibm.com/artificial-intelligence?lnk=prodC\" pictogram-placement=\"top\" size=\"\" target=\"_self\">\\n           <caem-card-heading aria-level=\"3\" data-autoid=\"caem--card-heading\" role=\"heading\" slot=\"heading\">\\n            AI &amp; machine learning\\n           </caem-card-heading>\\n           <svg class=\"bx--card__pictogram\" data-autoid=\"caem--card__pictogram\" focusable=\"false\" height=\"48\" role=\"img\" slot=\"pictogram\" width=\"48\">\\n            <use href=\"#ai\">\\n            </use>\\n           </svg>\\n           <p>\\n            Use IBM Watsonx’s AI or build your own machine learning models\\n           </p>\\n           <caem-card-cta-footer color-scheme=\"\" cta-type=\"local\" data-autoid=\"caem--card-cta-footer\" href=\"https://www.ibm.com/artificial-intelligence?lnk=prodC\" icon-placement=\"right\" parent-href=\"https://www.ibm.com/artificial-intelligence?lnk=prodC\" slot=\"footer\">\\n           </caem-card-cta-footer>\\n           <div class=\"caem-card-svg-source\">\\n            <svg id=\"ai\" viewBox=\"0 0 32 32\" xmlns=\"http://www.w3.org/2000/svg\">\\n             <path d=\"M16.195,31.36c-6.421,0-12.169-4.007-14.399-10.002 C1.051,21.408,0.373,20.771,0.372,20c0-0.75,0.61-1.36,1.36-1.36s1.36,0.61,1.36,1.36c0,0.474-0.243,0.892-0.611,1.135 c2.133,5.698,7.604,9.505,13.714,9.505c6.446,0,11.919-4.301,13.773-10.22c-1.448,2.06-3.877,3.44-6.565,3.44 c-3.822,0-7.066-2.785-7.664-6.525C15.113,17.212,14.64,16.661,14.64,16c0-0.584,0.37-1.083,0.888-1.275 c-0.608-3.421-3.615-5.962-7.125-5.962c-3.947,0-7.04,3.176-7.042,7.231c0,0.002,0,0.004,0,0.006H0.64c0-0.002,0-0.004,0-0.007 C0.644,7.526,7.445,0.64,15.805,0.64c6.42,0,12.168,4.006,14.399,10.001c0.777-0.034,1.425,0.587,1.425,1.358 c0,0.75-0.61,1.36-1.36,1.36s-1.36-0.61-1.36-1.36c0-0.473,0.243-0.891,0.611-1.135C27.387,5.166,21.916,1.36,15.805,1.36 c-6.319,0-11.704,4.134-13.659,9.873c1.402-1.949,3.662-3.19,6.256-3.19c3.881,0,7.204,2.826,7.846,6.62 C16.88,14.779,17.36,15.335,17.36,16c0,0.589-0.376,1.092-0.901,1.28c0.567,3.363,3.496,5.859,6.943,5.859 c3.857,0,7.127-3.118,7.235-6.851c0.001-0.096,0.002-0.192,0.002-0.289h0.721c0,0.033,0,0.065-0.001,0.098h0.001 c0,0.069-0.001,0.138-0.003,0.207C31.196,24.634,24.456,31.36,16.195,31.36z M1.732,19.36c-0.353,0-0.64,0.287-0.64,0.64 s0.287,0.64,0.64,0.64s0.64-0.287,0.64-0.64S2.085,19.36,1.732,19.36z M16,15.36c-0.353,0-0.64,0.287-0.64,0.64 s0.287,0.64,0.64,0.64s0.64-0.287,0.64-0.64S16.353,15.36,16,15.36z M30.269,11.36c-0.353,0-0.64,0.287-0.64,0.64 s0.287,0.64,0.64,0.64s0.64-0.287,0.64-0.64S30.621,11.36,30.269,11.36z\">\\n             </path>\\n            </svg>\\n           </div>\\n          </caem-card>\\n          <caem-card color-scheme=\"\" cta-type=\"local\" data-autoid=\"caem--card\" href=\"https://www.ibm.com/analytics?lnk=ProdC\" pictogram-placement=\"top\" size=\"\" target=\"_self\">\\n           <caem-card-heading aria-level=\"3\" data-autoid=\"caem--card-heading\" role=\"heading\" slot=\"heading\">\\n            Analytics\\n           </caem-card-heading>\\n           <svg class=\"bx--card__pictogram\" data-autoid=\"caem--card__pictogram\" focusable=\"false\" height=\"48\" role=\"img\" slot=\"pictogram\" width=\"48\">\\n            <use href=\"#predictive-analytics\">\\n            </use>\\n           </svg>\\n           <p>\\n            Aggregate and analyze large datasets\\n           </p>\\n           <caem-card-cta-footer color-scheme=\"\" cta-type=\"local\" data-autoid=\"caem--card-cta-footer\" href=\"https://www.ibm.com/analytics?lnk=ProdC\" icon-placement=\"right\" parent-href=\"https://www.ibm.com/analytics?lnk=ProdC\" slot=\"footer\">\\n           </caem-card-cta-footer>\\n           <div class=\"caem-card-svg-source\">\\n            <svg id=\"predictive-analytics\" viewBox=\"0 0 32 32\" xmlns=\"http://www.w3.org/2000/svg\">\\n             <path d=\"M31,31.36H1c-0.199,0-0.36-0.161-0.36-0.36 V1h0.72v29.64h4.28v-7.328c-0.576-0.158-1-0.687-1-1.312c0-0.75,0.61-1.36,1.36-1.36c0.364,0,0.694,0.144,0.938,0.377l3.702-2.221 v-8.484c-0.576-0.158-1-0.686-1-1.312c0-0.75,0.61-1.36,1.36-1.36S12.36,8.25,12.36,9c0,0.625-0.424,1.153-1,1.312v8.053l3.33-1.998 c-0.032-0.116-0.05-0.239-0.05-0.366c0-0.75,0.61-1.36,1.36-1.36c0.364,0,0.695,0.144,0.939,0.377l3.701-2.221V6.312 c-0.575-0.158-1-0.686-1-1.312c0-0.75,0.61-1.36,1.36-1.36S22.36,4.25,22.36,5c0,0.625-0.425,1.153-1,1.312v6.053l3.33-1.998 c-0.033-0.117-0.05-0.24-0.05-0.367c0-0.75,0.61-1.36,1.36-1.36s1.36,0.61,1.36,1.36c0,0.625-0.425,1.153-1,1.312V30.64H31V31.36z M21.36,30.64h4.279V11.312c-0.22-0.061-0.418-0.175-0.578-0.328l-3.701,2.221V30.64z M16.36,30.64h4.28V13.636l-3.33,1.998 c0.033,0.116,0.05,0.239,0.05,0.366c0,0.625-0.425,1.153-1,1.312V30.64z M11.36,30.64h4.28V17.312 c-0.22-0.061-0.418-0.175-0.579-0.328l-3.702,2.221V30.64H11.36z M6.36,30.64h4.28V19.636l-3.33,1.998 C7.343,21.75,7.36,21.873,7.36,22c0,0.625-0.424,1.153-1,1.312V30.64z M6,21.36c-0.353,0-0.64,0.287-0.64,0.64S5.647,22.64,6,22.64 S6.64,22.353,6.64,22S6.353,21.36,6,21.36z M16,15.36c-0.353,0-0.64,0.287-0.64,0.64s0.287,0.64,0.64,0.64s0.64-0.287,0.64-0.64 S16.353,15.36,16,15.36z M26,9.36c-0.353,0-0.64,0.287-0.64,0.64s0.287,0.64,0.64,0.64s0.64-0.287,0.64-0.64S26.353,9.36,26,9.36z M11,8.36c-0.353,0-0.64,0.287-0.64,0.64S10.647,9.64,11,9.64S11.64,9.353,11.64,9S11.353,8.36,11,8.36z M21,4.36 c-0.353,0-0.64,0.287-0.64,0.64S20.647,5.64,21,5.64S21.64,5.353,21.64,5S21.353,4.36,21,4.36z\">\\n             </path>\\n            </svg>\\n           </div>\\n          </caem-card>\\n          <caem-card color-scheme=\"\" cta-type=\"local\" data-autoid=\"caem--card\" href=\"https://www.ibm.com/servers?lnk=ProdC\" pictogram-placement=\"top\" size=\"\" target=\"_self\">\\n           <caem-card-heading aria-level=\"3\" data-autoid=\"caem--card-heading\" role=\"heading\" slot=\"heading\">\\n            Compute &amp; servers\\n           </caem-card-heading>\\n           <svg class=\"bx--card__pictogram\" data-autoid=\"caem--card__pictogram\" focusable=\"false\" height=\"48\" role=\"img\" slot=\"pictogram\" width=\"48\">\\n            <use href=\"#storage--product\">\\n            </use>\\n           </svg>\\n           <p>\\n            Run workloads on hybrid cloud infrastructure\\n           </p>\\n           <caem-card-cta-footer color-scheme=\"\" cta-type=\"local\" data-autoid=\"caem--card-cta-footer\" href=\"https://www.ibm.com/servers?lnk=ProdC\" icon-placement=\"right\" parent-href=\"https://www.ibm.com/servers?lnk=ProdC\" slot=\"footer\">\\n           </caem-card-cta-footer>\\n           <div class=\"caem-card-svg-source\">\\n            <svg id=\"storage--product\" viewBox=\"0 0 32 32\" xmlns=\"http://www.w3.org/2000/svg\">\\n             <path d=\"M30,31.36H8c-0.199,0-0.36-0.161-0.36-0.36v-5c0-0.199,0.161-0.36,0.36-0.36h22 c0.199,0,0.36,0.161,0.36,0.36v5C30.36,31.199,30.199,31.36,30,31.36z M8.36,30.64h21.28v-4.28H8.36V30.64z M6,31.36H2 c-0.199,0-0.36-0.161-0.36-0.36V1c0-0.199,0.161-0.36,0.36-0.36h11c0.199,0,0.36,0.161,0.36,0.36v9h-0.72V1.36H2.36v29.28H6V31.36z M28.36,30h-0.72v-2h0.721L28.36,30L28.36,30z M26.36,30h-0.72v-2h0.721L26.36,30L26.36,30z M24.36,30h-0.72v-2h0.721L24.36,30 L24.36,30z M22.36,30h-0.72v-2h0.721L22.36,30L22.36,30z M30,24.36H8c-0.199,0-0.36-0.161-0.36-0.36v-5 c0-0.199,0.161-0.36,0.36-0.36h22c0.199,0,0.36,0.161,0.36,0.36v5C30.36,24.199,30.199,24.36,30,24.36z M8.36,23.64h21.28v-4.28 H8.36V23.64z M28.36,23h-0.72v-2h0.721L28.36,23L28.36,23z M26.36,23h-0.72v-2h0.721L26.36,23L26.36,23z M24.36,23h-0.72v-2h0.721 L24.36,23L24.36,23z M22.36,23h-0.72v-2h0.721L22.36,23L22.36,23z M30,17.36H8c-0.199,0-0.36-0.161-0.36-0.36v-5 c0-0.199,0.161-0.36,0.36-0.36h22c0.199,0,0.36,0.161,0.36,0.36v5C30.36,17.199,30.199,17.36,30,17.36z M8.36,16.64h21.28v-4.28 H8.36V16.64z M28.36,16h-0.72v-2h0.721L28.36,16L28.36,16z M26.36,16h-0.72v-2h0.721L26.36,16L26.36,16z M24.36,16h-0.72v-2h0.721 L24.36,16L24.36,16z M22.36,16h-0.72v-2h0.721L22.36,16L22.36,16z M6,4.36H4V3.64h2V4.36z\">\\n             </path>\\n            </svg>\\n           </div>\\n          </caem-card>\\n          <caem-card color-scheme=\"\" cta-type=\"local\" data-autoid=\"caem--card\" href=\"https://www.ibm.com/database?lnk=ProdC\" pictogram-placement=\"top\" size=\"\" target=\"_self\">\\n           <caem-card-heading aria-level=\"3\" data-autoid=\"caem--card-heading\" role=\"heading\" slot=\"heading\">\\n            Databases\\n           </caem-card-heading>\\n           <svg class=\"bx--card__pictogram\" data-autoid=\"caem--card__pictogram\" focusable=\"false\" height=\"48\" role=\"img\" slot=\"pictogram\" width=\"48\">\\n            <use href=\"#hard--drive--network\">\\n            </use>\\n           </svg>\\n           <p>\\n            Store, query and analyze structured data\\n           </p>\\n           <caem-card-cta-footer color-scheme=\"\" cta-type=\"local\" data-autoid=\"caem--card-cta-footer\" href=\"https://www.ibm.com/database?lnk=ProdC\" icon-placement=\"right\" parent-href=\"https://www.ibm.com/database?lnk=ProdC\" slot=\"footer\">\\n           </caem-card-cta-footer>\\n           <div class=\"caem-card-svg-source\">\\n            <svg id=\"hard--drive--network\" viewBox=\"0 0 32 32\" xmlns=\"http://www.w3.org/2000/svg\">\\n             <path d=\"M20,6c-0.552,0-1-0.448-1-1s0.448-1,1-1s1,0.448,1,1S20.552,6,20,6z M21,16 c0-0.552-0.448-1-1-1s-1,0.448-1,1s0.448,1,1,1S21,16.552,21,16z M21,27c0-0.552-0.448-1-1-1s-1,0.448-1,1s0.448,1,1,1 S21,27.552,21,27z M24,31.36H1c-0.199,0-0.36-0.161-0.36-0.36v-8c0-0.199,0.161-0.36,0.36-0.36h23c0.199,0,0.36,0.161,0.36,0.36v8 C24.36,31.199,24.199,31.36,24,31.36z M1.36,30.64h22.28v-7.28H1.36V30.64z M31,27.36h-5v-0.72h4.64V16.36H26v-0.72h4.64V5.36H26 V4.64h5c0.199,0,0.36,0.161,0.36,0.36v22C31.36,27.199,31.199,27.36,31,27.36z M24,20.36H1c-0.199,0-0.36-0.161-0.36-0.36v-8 c0-0.199,0.161-0.36,0.36-0.36h23c0.199,0,0.36,0.161,0.36,0.36v8C24.36,20.199,24.199,20.36,24,20.36z M1.36,19.64h22.28v-7.28 H1.36V19.64z M24,9.36H1C0.801,9.36,0.64,9.199,0.64,9V1c0-0.199,0.161-0.36,0.36-0.36h23c0.199,0,0.36,0.161,0.36,0.36v8 C24.36,9.199,24.199,9.36,24,9.36z M1.36,8.64h22.28V1.36H1.36V8.64z\">\\n             </path>\\n            </svg>\\n           </div>\\n          </caem-card>\\n          <caem-card color-scheme=\"\" cta-type=\"local\" data-autoid=\"caem--card\" href=\"https://www.ibm.com/devops?lnk=ProdC\" pictogram-placement=\"top\" size=\"\" target=\"_self\">\\n           <caem-card-heading aria-level=\"3\" data-autoid=\"caem--card-heading\" role=\"heading\" slot=\"heading\">\\n            DevOps\\n           </caem-card-heading>\\n           <svg class=\"bx--card__pictogram\" data-autoid=\"caem--card__pictogram\" focusable=\"false\" height=\"48\" role=\"img\" slot=\"pictogram\" width=\"48\">\\n            <use href=\"#devops\">\\n            </use>\\n           </svg>\\n           <p>\\n            Manage infrastructure, environments and deployments\\n           </p>\\n           <caem-card-cta-footer color-scheme=\"\" cta-type=\"local\" data-autoid=\"caem--card-cta-footer\" href=\"https://www.ibm.com/devops?lnk=ProdC\" icon-placement=\"right\" parent-href=\"https://www.ibm.com/devops?lnk=ProdC\" slot=\"footer\">\\n           </caem-card-cta-footer>\\n           <div class=\"caem-card-svg-source\">\\n            <svg id=\"devops\" viewBox=\"0 0 32 32\" xmlns=\"http://www.w3.org/2000/svg\">\\n             <path d=\"M18,31.36h-4c-0.128,0-0.248-0.069-0.312-0.181l-2-3.464c-0.064-0.111-0.064-0.248,0-0.359l2-3.464 c0.064-0.111,0.183-0.181,0.312-0.181h3.792l2.896-5.016c0.1-0.174,0.32-0.231,0.491-0.132c0.173,0.1,0.231,0.319,0.132,0.491 l-2.896,5.017l1.896,3.284c0.064,0.111,0.064,0.248,0,0.359l-2,3.464C18.247,31.291,18.129,31.36,18,31.36z M14.208,30.64h3.584 l1.792-3.104l-1.792-3.104h-3.584l-1.792,3.104L14.208,30.64z M28,25.593h-4c-0.129,0-0.247-0.069-0.312-0.181l-2-3.465 c-0.064-0.111-0.064-0.248,0-0.359l1.896-3.284l-2.896-5.016c-0.1-0.172-0.041-0.393,0.132-0.492c0.171-0.1,0.392-0.041,0.491,0.131 l2.896,5.016H28c0.129,0,0.247,0.069,0.312,0.181l2,3.464c0.064,0.111,0.064,0.248,0,0.359l-2,3.465 C28.247,25.523,28.129,25.593,28,25.593z M24.208,24.872h3.584l1.792-3.104l-1.792-3.104h-3.584l-1.792,3.104L24.208,24.872z M8,25.593H4c-0.128,0-0.248-0.069-0.312-0.181l-2-3.465c-0.064-0.111-0.064-0.248,0-0.359l2-3.464 C3.752,18.013,3.872,17.943,4,17.943h4c0.128,0,0.248,0.069,0.312,0.181l1.896,3.283H16c0.199,0,0.36,0.161,0.36,0.36 s-0.161,0.36-0.36,0.36h-5.792l-1.896,3.284C8.248,25.523,8.128,25.593,8,25.593z M4.208,24.872h3.584l1.792-3.104l-1.792-3.104 H4.208l-1.792,3.104L4.208,24.872z M11,19.253c-0.125,0-0.246-0.064-0.312-0.181l-2.896-5.016H4c-0.128,0-0.248-0.068-0.312-0.18 l-2-3.464c-0.064-0.111-0.064-0.249,0-0.36l2-3.464C3.752,6.477,3.872,6.408,4,6.408h4c0.128,0,0.248,0.068,0.312,0.18l2,3.464 c0.064,0.111,0.064,0.249,0,0.36l-1.896,3.284l2.896,5.017c0.099,0.172,0.04,0.392-0.132,0.491 C11.124,19.237,11.062,19.253,11,19.253z M4.208,13.336h3.584l1.792-3.104L7.792,7.128H4.208l-1.792,3.104L4.208,13.336z M28,14.056 h-4c-0.129,0-0.247-0.068-0.312-0.18l-1.896-3.285H16c-0.199,0-0.36-0.161-0.36-0.36s0.161-0.36,0.36-0.36h5.792l1.896-3.284 c0.064-0.111,0.183-0.18,0.312-0.18h4c0.129,0,0.247,0.068,0.312,0.18l2,3.464c0.064,0.111,0.064,0.249,0,0.36l-2,3.464 C28.247,13.988,28.129,14.056,28,14.056z M24.208,13.336h3.584l1.792-3.104l-1.792-3.104h-3.584l-1.792,3.104L24.208,13.336z M11,13.484c-0.061,0-0.123-0.015-0.18-0.048c-0.172-0.1-0.231-0.32-0.132-0.492l2.896-5.016l-1.896-3.284 c-0.064-0.112-0.064-0.249,0-0.36l2-3.464C13.752,0.708,13.872,0.64,14,0.64h4c0.129,0,0.247,0.068,0.312,0.18l2,3.464 c0.064,0.111,0.064,0.249,0,0.36l-2,3.464C18.247,8.22,18.129,8.288,18,8.288h-3.792l-2.896,5.017 C11.245,13.42,11.124,13.484,11,13.484z M14.208,7.568h3.584l1.792-3.104L17.792,1.36h-3.584l-1.792,3.104L14.208,7.568z\">\\n             </path>\\n            </svg>\\n           </div>\\n          </caem-card>\\n          <caem-card color-scheme=\"\" cta-type=\"local\" data-autoid=\"caem--card\" href=\"https://www.ibm.com/it-automation?lnk=ProdC\" pictogram-placement=\"top\" size=\"\" target=\"_self\">\\n           <caem-card-heading aria-level=\"3\" data-autoid=\"caem--card-heading\" role=\"heading\" slot=\"heading\">\\n            IT automation\\n           </caem-card-heading>\\n           <svg class=\"bx--card__pictogram\" data-autoid=\"caem--card__pictogram\" focusable=\"false\" height=\"48\" role=\"img\" slot=\"pictogram\" width=\"48\">\\n            <use href=\"#automation--decision\">\\n            </use>\\n           </svg>\\n           <p>\\n            Automate IT infrastructure management\\n           </p>\\n           <caem-card-cta-footer color-scheme=\"\" cta-type=\"local\" data-autoid=\"caem--card-cta-footer\" href=\"https://www.ibm.com/it-automation?lnk=ProdC\" icon-placement=\"right\" parent-href=\"https://www.ibm.com/it-automation?lnk=ProdC\" slot=\"footer\">\\n           </caem-card-cta-footer>\\n           <div class=\"caem-card-svg-source\">\\n            <svg id=\"automation--decision\" viewBox=\"0 0 32 32\" xmlns=\"http://www.w3.org/2000/svg\">\\n             <path d=\"M27.255,19.255L30.509,16l-3.254-3.254l-0.51,0.509l2.386,2.386H16.149L9.36,8.85V5.36h19.771 l-2.386,2.386l0.51,0.509L30.509,5l-3.254-3.254l-0.51,0.509l2.386,2.386H9C8.801,4.64,8.64,4.801,8.64,5v3.85l-6.895,6.896 c-0.141,0.141-0.141,0.368,0,0.509L8.64,23.15V27c0,0.199,0.161,0.36,0.36,0.36h20.131l-2.386,2.385l0.51,0.51L30.509,27 l-3.254-3.255l-0.51,0.51l2.386,2.385H9.36v-3.49l6.789-6.79h12.982l-2.386,2.385L27.255,19.255z M9,22.491L2.509,16L9,9.508 L15.491,16L9,22.491z\">\\n             </path>\\n            </svg>\\n           </div>\\n          </caem-card>\\n          <caem-card color-scheme=\"\" cta-type=\"local\" data-autoid=\"caem--card\" href=\"https://www.ibm.com/quantum?lnk=ProdC\" pictogram-placement=\"top\" size=\"\" target=\"_self\">\\n           <caem-card-heading aria-level=\"3\" data-autoid=\"caem--card-heading\" role=\"heading\" slot=\"heading\">\\n            Quantum\\n           </caem-card-heading>\\n           <svg class=\"bx--card__pictogram\" data-autoid=\"caem--card__pictogram\" focusable=\"false\" height=\"48\" role=\"img\" slot=\"pictogram\" width=\"48\">\\n            <use href=\"#quantum--safe\">\\n            </use>\\n           </svg>\\n           <p>\\n            Run code on real quantum systems using a full-stack SDK\\n           </p>\\n           <caem-card-cta-footer color-scheme=\"\" cta-type=\"local\" data-autoid=\"caem--card-cta-footer\" href=\"https://www.ibm.com/quantum?lnk=ProdC\" icon-placement=\"right\" parent-href=\"https://www.ibm.com/quantum?lnk=ProdC\" slot=\"footer\">\\n           </caem-card-cta-footer>\\n           <div class=\"caem-card-svg-source\">\\n            <svg id=\"quantum--safe\" viewBox=\"0 0 32 32\" xmlns=\"http://www.w3.org/2000/svg\">\\n             <path d=\"M16,31.36C9.736,31.36,4.64,26.264,4.64,20V7 c0-0.132,0.072-0.253,0.188-0.316l11-6c0.107-0.059,0.237-0.059,0.345,0l11,6C27.288,6.747,27.36,6.868,27.36,7v13 C27.36,26.264,22.264,31.36,16,31.36z M5.36,7.214V20c0,5.867,4.773,10.64,10.64,10.64S26.64,25.868,26.64,20V7.214L16,1.41 L5.36,7.214z M16,23.36c-1.089,0-1.841-0.229-2.703-0.599l0.284-0.662c0.797,0.343,1.449,0.54,2.419,0.54 c3.421,0,6.16-2.355,6.583-5.502C21.287,17.971,18.572,18.36,16,18.36c-3.558,0-7.36-0.62-7.36-2.36c0-0.903,0.218-1.93,0.598-2.817 c0.752-1.794,2.166-3.197,3.978-3.947c1.815-0.751,3.803-0.751,5.598,0L18.535,9.9c-1.613-0.677-3.405-0.678-5.044,0.001 c-1.635,0.677-2.91,1.942-3.59,3.562c-0.173,0.403-0.308,0.835-0.4,1.269c1.301-0.894,3.878-1.467,6.317-1.541l0.021,0.72 C12.081,14.026,9.36,15.238,9.36,16c0,0.806,2.484,1.64,6.64,1.64c4.114,0,6.64-0.955,6.64-1.64c0-0.39-1.028-1.311-2.71-1.647 l0.141-0.706c1.814,0.363,3.29,1.418,3.29,2.353v0.285C23.36,20.252,20.127,23.36,16,23.36z M11,22.612 c-0.889,0-1.612-0.724-1.612-1.612s0.723-1.612,1.612-1.612s1.612,0.724,1.612,1.612S11.889,22.612,11,22.612z M11,20.108 c-0.492,0-0.892,0.399-0.892,0.892s0.4,0.892,0.892,0.892s0.892-0.399,0.892-0.892S11.492,20.108,11,20.108z M16.254,16.254 l-0.509-0.509l3.888-3.889c-0.39-0.623-0.314-1.456,0.226-1.997c0.629-0.629,1.652-0.628,2.281,0c0.628,0.629,0.628,1.651,0,2.28 l0,0c-0.541,0.541-1.375,0.616-1.997,0.226L16.254,16.254z M21,10.108c-0.229,0-0.457,0.087-0.631,0.261 c-0.348,0.348-0.348,0.914,0,1.262s0.914,0.348,1.262,0s0.348-0.914,0-1.262C21.457,10.195,21.229,10.108,21,10.108z\">\\n             </path>\\n            </svg>\\n           </div>\\n          </caem-card>\\n          <caem-card color-scheme=\"\" cta-type=\"local\" data-autoid=\"caem--card\" href=\"https://www.ibm.com/security?lnk=prodC\" pictogram-placement=\"top\" size=\"\" target=\"_self\">\\n           <caem-card-heading aria-level=\"3\" data-autoid=\"caem--card-heading\" role=\"heading\" slot=\"heading\">\\n            Security &amp; identity\\n           </caem-card-heading>\\n           <svg class=\"bx--card__pictogram\" data-autoid=\"caem--card__pictogram\" focusable=\"false\" height=\"48\" role=\"img\" slot=\"pictogram\" width=\"48\">\\n            <use href=\"#secure--profile\">\\n            </use>\\n           </svg>\\n           <p>\\n            Cloud-native software to secure resources and simplify compliance\\n           </p>\\n           <caem-card-cta-footer color-scheme=\"\" cta-type=\"local\" data-autoid=\"caem--card-cta-footer\" href=\"https://www.ibm.com/security?lnk=prodC\" icon-placement=\"right\" parent-href=\"https://www.ibm.com/security?lnk=prodC\" slot=\"footer\">\\n           </caem-card-cta-footer>\\n           <div class=\"caem-card-svg-source\">\\n            <svg id=\"secure--profile\" viewBox=\"0 0 32 32\" xmlns=\"http://www.w3.org/2000/svg\">\\n             <path d=\"M23.14,25.415v-1.988c-0.373-0.145-0.64-0.503-0.64-0.927c0-0.552,0.448-1,1-1s1,0.448,1,1 c0,0.424-0.266,0.782-0.64,0.927v1.988c0,0.199-0.161,0.36-0.36,0.36S23.14,25.614,23.14,25.415z M31.36,16v15 c0,0.199-0.161,0.36-0.36,0.36H16c-0.199,0-0.36-0.161-0.36-0.36V19h0.72v11.64h14.28V16.36H1c-0.199,0-0.36-0.161-0.36-0.36V1 c0-0.199,0.161-0.36,0.36-0.36h15c0.199,0,0.36,0.161,0.36,0.36v12h-0.72V1.36H1.36v14.28h2.28v-2.639 c0-1.926,1.166-3.659,2.908-4.427C5.978,8.04,5.643,7.293,5.643,6.5c0-1.577,1.283-2.86,2.86-2.86s2.86,1.283,2.86,2.86 c0,0.794-0.335,1.542-0.907,2.075c1.74,0.77,2.904,2.502,2.904,4.426v2.639h6.28V11.5c0-2.128,1.731-3.86,3.859-3.86 c2.129,0,3.861,1.731,3.861,3.86l-0.001,4.14H31C31.199,15.64,31.36,15.801,31.36,16z M12.64,13.001c0-1.837-1.25-3.47-3.041-3.97 c-0.141-0.04-0.244-0.16-0.261-0.306C9.321,8.58,9.395,8.439,9.523,8.369c0.69-0.379,1.12-1.095,1.12-1.869 c0-1.18-0.96-2.14-2.14-2.14s-2.14,0.96-2.14,2.14c0,0.773,0.429,1.489,1.119,1.868c0.128,0.07,0.201,0.211,0.184,0.357 C7.648,8.87,7.545,8.991,7.404,9.03C5.612,9.529,4.36,11.162,4.36,13.001v2.639h8.28C12.64,15.64,12.64,13.001,12.64,13.001z M26.64,11.5c0-1.731-1.408-3.14-3.14-3.14s-3.14,1.409-3.14,3.14v4.14h6.278L26.64,11.5z\">\\n             </path>\\n            </svg>\\n           </div>\\n          </caem-card>\\n         </caem-card-group>\\n        </div>\\n        <script src=\"https://1.www.s81c.com/common/carbon/carbon-for-aem/version/v0.5.1/card.min.js\" type=\"module\">\\n        </script>\\n        <script src=\"https://1.www.s81c.com/common/carbon/carbon-for-aem/version/v0.5.1/card-group.min.js\" type=\"module\">\\n        </script>\\n       </div>\\n       <div class=\"feature-card-section\">\\n        <div class=\"feature-card-section__container theme-white\">\\n         <dds-feature-section media-alignment=\"right\">\\n          <dds-image alt=\"Illustration of concentric circles with orange diamonds \" default-src=\"/content/dam/connectedassets-adobe-cms/worldwide-content/homepage/ul/g/12/29/sosf-ibm-homepage-feature-image.component.xl.ts=1698245291758.jpg/content/adobe-cms/us/en/homepage/jcr:content/root/table_of_contents/feature_card_section\" id=\"image--34622158\" slot=\"image\">\\n           <dds-image-item media=\"(min-width: 1312px) and (min-resolution: 192dpi)\" srcset=\"/content/dam/connectedassets-adobe-cms/worldwide-content/homepage/ul/g/12/29/sosf-ibm-homepage-feature-image.component.xl-retina.ts=1698245291758.jpg/content/adobe-cms/us/en/homepage/jcr:content/root/table_of_contents/feature_card_section\">\\n           </dds-image-item>\\n           <dds-image-item media=\"(min-width: 1312px)\" srcset=\"/content/dam/connectedassets-adobe-cms/worldwide-content/homepage/ul/g/12/29/sosf-ibm-homepage-feature-image.component.xl.ts=1698245291758.jpg/content/adobe-cms/us/en/homepage/jcr:content/root/table_of_contents/feature_card_section\">\\n           </dds-image-item>\\n           <dds-image-item media=\"(min-width: 1056px) and (min-resolution: 192dpi)\" srcset=\"/content/dam/connectedassets-adobe-cms/worldwide-content/homepage/ul/g/12/29/sosf-ibm-homepage-feature-image.component.l-retina.ts=1698245291758.jpg/content/adobe-cms/us/en/homepage/jcr:content/root/table_of_contents/feature_card_section\">\\n           </dds-image-item>\\n           <dds-image-item media=\"(min-width: 1056px)\" srcset=\"/content/dam/connectedassets-adobe-cms/worldwide-content/homepage/ul/g/12/29/sosf-ibm-homepage-feature-image.component.l.ts=1698245291758.jpg/content/adobe-cms/us/en/homepage/jcr:content/root/table_of_contents/feature_card_section\">\\n           </dds-image-item>\\n           <dds-image-item media=\"(min-width: 672px) and (min-resolution: 192dpi)\" srcset=\"/content/dam/connectedassets-adobe-cms/worldwide-content/homepage/ul/g/12/29/sosf-ibm-homepage-feature-image.component.m-retina.ts=1698245291758.jpg/content/adobe-cms/us/en/homepage/jcr:content/root/table_of_contents/feature_card_section\">\\n           </dds-image-item>\\n           <dds-image-item media=\"(min-width: 672px)\" srcset=\"/content/dam/connectedassets-adobe-cms/worldwide-content/homepage/ul/g/12/29/sosf-ibm-homepage-feature-image.component.m.ts=1698245291758.jpg/content/adobe-cms/us/en/homepage/jcr:content/root/table_of_contents/feature_card_section\">\\n           </dds-image-item>\\n           <dds-image-item media=\"(min-width: 481px) and (min-resolution: 192dpi)\" srcset=\"/content/dam/connectedassets-adobe-cms/worldwide-content/homepage/ul/g/12/29/sosf-ibm-homepage-feature-image.component.s-retina.ts=1698245291758.jpg/content/adobe-cms/us/en/homepage/jcr:content/root/table_of_contents/feature_card_section\">\\n           </dds-image-item>\\n           <dds-image-item media=\"(min-width: 481px)\" srcset=\"/content/dam/connectedassets-adobe-cms/worldwide-content/homepage/ul/g/12/29/sosf-ibm-homepage-feature-image.component.s.ts=1698245291758.jpg/content/adobe-cms/us/en/homepage/jcr:content/root/table_of_contents/feature_card_section\">\\n           </dds-image-item>\\n           <dds-image-item media=\"(max-width: 480px) and (min-resolution: 192dpi)\" srcset=\"/content/dam/connectedassets-adobe-cms/worldwide-content/homepage/ul/g/12/29/sosf-ibm-homepage-feature-image.component.xs-retina.ts=1698245291758.jpg/content/adobe-cms/us/en/homepage/jcr:content/root/table_of_contents/feature_card_section\">\\n           </dds-image-item>\\n           <dds-image-item media=\"(max-width: 480px)\" srcset=\"/content/dam/connectedassets-adobe-cms/worldwide-content/homepage/ul/g/12/29/sosf-ibm-homepage-feature-image.component.xs.ts=1698245291758.jpg/content/adobe-cms/us/en/homepage/jcr:content/root/table_of_contents/feature_card_section\">\\n           </dds-image-item>\\n          </dds-image>\\n          <dds-card-eyebrow slot=\"eyebrow\">\\n           What\\'s new\\n          </dds-card-eyebrow>\\n          <dds-content-block-heading slot=\"heading\">\\n           The Power of AI: Security\\n          </dds-content-block-heading>\\n          <dds-content-item-paragraph slot=\"copy\">\\n           Stay ahead of cyber threats with faster incident detection and response using AI and automation technologies.\\n          </dds-content-item-paragraph>\\n          <dds-feature-section-card-link color-scheme=\"inverse\" cta-type=\"local\" href=\"https://www.ibm.com/thought-leadership/institute-business-value/en-us/report/ai-security-automation\" slot=\"footer\" target=\"_self\">\\n           <dds-card-link-heading>\\n            Read the report\\n           </dds-card-link-heading>\\n           <dds-card-cta-footer color-scheme=\"inverse\" cta-type=\"local\" href=\"https://www.ibm.com/thought-leadership/institute-business-value/en-us/report/ai-security-automation\" target=\"_self\">\\n           </dds-card-cta-footer>\\n          </dds-feature-section-card-link>\\n         </dds-feature-section>\\n        </div>\\n       </div>\\n       <div class=\"intro-section\">\\n        <div class=\"bx--col\">\\n         <caem-intro-section>\\n          <caem-heading data-autoid=\"caem-heading\" slot=\"heading\" type=\"h2\" type-style=\"expressive-heading-05\">\\n           Meet our global consultants\\n          </caem-heading>\\n          <caem-paragraph data-autoid=\"caem--paragraph\" size=\"lead-in\">\\n           <div class=\"cms-richtext\" data-dynamic-inner-content=\"description\" id=\"rich-text-c6915c4a21\">\\n            <p>\\n             Bringing together a diverse set of voices with new technology, we collaborate closely, ideate freely and swiftly apply breakthrough innovations that drive big impact.\\n            </p>\\n           </div>\\n          </caem-paragraph>\\n          <dds-link-list type=\"vertical\">\\n           <dds-video-cta-container>\\n            <dds-link-list-item-cta cta-type=\"local\" href=\"https://www.ibm.com/consulting?lnk=intro\" icon-placement=\"right\" role=\"listitem\" target=\"_self\">\\n             View IBM Consulting\\n            </dds-link-list-item-cta>\\n           </dds-video-cta-container>\\n          </dds-link-list>\\n         </caem-intro-section>\\n        </div>\\n        <script src=\"https://1.www.s81c.com/common/carbon/carbon-for-aem/version/v0.8.1/paragraph.min.js\" type=\"module\">\\n        </script>\\n        <script src=\"https://1.www.s81c.com/common/carbon/carbon-for-aem/version/v0.8.1/heading.min.js\" type=\"module\">\\n        </script>\\n        <script src=\"https://1.www.s81c.com/common/carbon/carbon-for-aem/version/v0.8.1/intro-section.min.js\" type=\"module\">\\n        </script>\\n        <script src=\"https://1.www.s81c.com/common/carbon/carbon-for-aem/version/v0.8.1/brand-cta-section.min.js\" type=\"module\">\\n        </script>\\n       </div>\\n       <div class=\"simple-image\">\\n        <div class=\"bx--image\">\\n         <picture>\\n          <source media=\"(min-width: 1312px) and (min-resolution: 192dpi)\" srcset=\"/content/dam/adobe-cms/default-images/home-consultants.component.crop-16by9-xl-retina.ts=1698245292190.jpg/content/adobe-cms/us/en/homepage/jcr:content/root/table_of_contents/simple_image\"/>\\n          <source media=\"(min-width: 1312px)\" srcset=\"/content/dam/adobe-cms/default-images/home-consultants.component.crop-16by9-xl.ts=1698245292190.jpg/content/adobe-cms/us/en/homepage/jcr:content/root/table_of_contents/simple_image\"/>\\n          <source media=\"(min-width: 1056px) and (min-resolution: 192dpi)\" srcset=\"/content/dam/adobe-cms/default-images/home-consultants.component.crop-16by9-l-retina.ts=1698245292190.jpg/content/adobe-cms/us/en/homepage/jcr:content/root/table_of_contents/simple_image\"/>\\n          <source media=\"(min-width: 1056px)\" srcset=\"/content/dam/adobe-cms/default-images/home-consultants.component.crop-16by9-l.ts=1698245292190.jpg/content/adobe-cms/us/en/homepage/jcr:content/root/table_of_contents/simple_image\"/>\\n          <source media=\"(min-width: 672px) and (min-resolution: 192dpi)\" srcset=\"/content/dam/adobe-cms/default-images/home-consultants.component.crop-16by9-m-retina.ts=1698245292190.jpg/content/adobe-cms/us/en/homepage/jcr:content/root/table_of_contents/simple_image\"/>\\n          <source media=\"(min-width: 672px)\" srcset=\"/content/dam/adobe-cms/default-images/home-consultants.component.crop-16by9-m.ts=1698245292190.jpg/content/adobe-cms/us/en/homepage/jcr:content/root/table_of_contents/simple_image\"/>\\n          <source media=\"(min-width: 481px) and (min-resolution: 192dpi)\" srcset=\"/content/dam/adobe-cms/default-images/home-consultants.component.crop-16by9-s-retina.ts=1698245292190.jpg/content/adobe-cms/us/en/homepage/jcr:content/root/table_of_contents/simple_image\"/>\\n          <source media=\"(min-width: 481px)\" srcset=\"/content/dam/adobe-cms/default-images/home-consultants.component.crop-16by9-s.ts=1698245292190.jpg/content/adobe-cms/us/en/homepage/jcr:content/root/table_of_contents/simple_image\"/>\\n          <source media=\"(max-width: 480px) and (min-resolution: 192dpi)\" srcset=\"/content/dam/adobe-cms/default-images/home-consultants.component.crop-16by9-xs-retina.ts=1698245292190.jpg/content/adobe-cms/us/en/homepage/jcr:content/root/table_of_contents/simple_image\"/>\\n          <source media=\"(max-width: 480px)\" srcset=\"/content/dam/adobe-cms/default-images/home-consultants.component.crop-16by9-xs.ts=1698245292190.jpg/content/adobe-cms/us/en/homepage/jcr:content/root/table_of_contents/simple_image\"/>\\n          <img alt=\"Portraits of IBM consultants\" class=\"bx--image__img\" id=\"image-1128229217\" loading=\"lazy\" src=\"/content/dam/adobe-cms/default-images/home-consultants.component.crop-16by9-xl.ts=1698245292190.jpg/content/adobe-cms/us/en/homepage/_jcr_content/root/table_of_contents/simple_image\"/>\\n         </picture>\\n        </div>\\n       </div>\\n       <div class=\"intro-section\">\\n        <div class=\"bx--col\">\\n         <caem-intro-section>\\n          <caem-heading data-autoid=\"caem-heading\" slot=\"heading\" type=\"h2\" type-style=\"expressive-heading-05\">\\n           Inside IBM\\n          </caem-heading>\\n          <caem-paragraph data-autoid=\"caem--paragraph\" size=\"lead-in\">\\n           <div class=\"cms-richtext\" data-dynamic-inner-content=\"description\" id=\"rich-text-2e2a81d78b\">\\n            <p>\\n             Solving the world’s problems through technology wouldn’t be possible without our most important invention: the IBMer. Have a look at our talented teams.\\n            </p>\\n           </div>\\n          </caem-paragraph>\\n          <dds-link-list type=\"vertical\">\\n           <dds-video-cta-container>\\n            <dds-link-list-item-cta cta-type=\"local\" href=\"https://www.ibm.com/about?lnk=intro\" icon-placement=\"right\" role=\"listitem\" target=\"_self\">\\n             About IBM\\n            </dds-link-list-item-cta>\\n           </dds-video-cta-container>\\n          </dds-link-list>\\n         </caem-intro-section>\\n        </div>\\n        <script src=\"https://1.www.s81c.com/common/carbon/carbon-for-aem/version/v0.8.1/paragraph.min.js\" type=\"module\">\\n        </script>\\n        <script src=\"https://1.www.s81c.com/common/carbon/carbon-for-aem/version/v0.8.1/heading.min.js\" type=\"module\">\\n        </script>\\n        <script src=\"https://1.www.s81c.com/common/carbon/carbon-for-aem/version/v0.8.1/intro-section.min.js\" type=\"module\">\\n        </script>\\n        <script src=\"https://1.www.s81c.com/common/carbon/carbon-for-aem/version/v0.8.1/brand-cta-section.min.js\" type=\"module\">\\n        </script>\\n       </div>\\n       <div class=\"block-card-container container responsivegrid\">\\n        <dds-content-block-cards data-autoid=\"dds--content-block-cards\">\\n         <dds-card-group cards-per-row=\"4\">\\n          <dds-card-group-item cta-type=\"local\" href=\"https://www.ibm.com/careers/us-en/\" pictogram-placement=\"top\" target=\"_self\">\\n           <dds-image alt=\"Engineer works with electrical device\" default-src=\"/content/dam/connectedassets-adobe-cms/worldwide-content/creative-assets/ibs/ul/g/00/00/0100129_Oppermann_PE.component.card-xl.ts=1698245293299.jpg/content/adobe-cms/us/en/homepage/jcr:content/root/table_of_contents/block_card_container/container/card_1430209788/image\" id=\"image--2045112015\" slot=\"image\">\\n            <dds-image-item media=\"(min-width: 1312px) and (min-resolution: 192dpi)\" srcset=\"/content/dam/connectedassets-adobe-cms/worldwide-content/creative-assets/ibs/ul/g/00/00/0100129_Oppermann_PE.component.card-xl-retina.ts=1698245293299.jpg/content/adobe-cms/us/en/homepage/jcr:content/root/table_of_contents/block_card_container/container/card_1430209788/image\">\\n            </dds-image-item>\\n            <dds-image-item media=\"(min-width: 1312px)\" srcset=\"/content/dam/connectedassets-adobe-cms/worldwide-content/creative-assets/ibs/ul/g/00/00/0100129_Oppermann_PE.component.card-xl.ts=1698245293299.jpg/content/adobe-cms/us/en/homepage/jcr:content/root/table_of_contents/block_card_container/container/card_1430209788/image\">\\n            </dds-image-item>\\n            <dds-image-item media=\"(min-width: 1056px) and (min-resolution: 192dpi)\" srcset=\"/content/dam/connectedassets-adobe-cms/worldwide-content/creative-assets/ibs/ul/g/00/00/0100129_Oppermann_PE.component.card-l-retina.ts=1698245293299.jpg/content/adobe-cms/us/en/homepage/jcr:content/root/table_of_contents/block_card_container/container/card_1430209788/image\">\\n            </dds-image-item>\\n            <dds-image-item media=\"(min-width: 1056px)\" srcset=\"/content/dam/connectedassets-adobe-cms/worldwide-content/creative-assets/ibs/ul/g/00/00/0100129_Oppermann_PE.component.card-l.ts=1698245293299.jpg/content/adobe-cms/us/en/homepage/jcr:content/root/table_of_contents/block_card_container/container/card_1430209788/image\">\\n            </dds-image-item>\\n            <dds-image-item media=\"(min-width: 672px) and (min-resolution: 192dpi)\" srcset=\"/content/dam/connectedassets-adobe-cms/worldwide-content/creative-assets/ibs/ul/g/00/00/0100129_Oppermann_PE.component.card-m-retina.ts=1698245293299.jpg/content/adobe-cms/us/en/homepage/jcr:content/root/table_of_contents/block_card_container/container/card_1430209788/image\">\\n            </dds-image-item>\\n            <dds-image-item media=\"(min-width: 672px)\" srcset=\"/content/dam/connectedassets-adobe-cms/worldwide-content/creative-assets/ibs/ul/g/00/00/0100129_Oppermann_PE.component.card-m.ts=1698245293299.jpg/content/adobe-cms/us/en/homepage/jcr:content/root/table_of_contents/block_card_container/container/card_1430209788/image\">\\n            </dds-image-item>\\n            <dds-image-item media=\"(min-width: 481px) and (min-resolution: 192dpi)\" srcset=\"/content/dam/connectedassets-adobe-cms/worldwide-content/creative-assets/ibs/ul/g/00/00/0100129_Oppermann_PE.component.card-s-retina.ts=1698245293299.jpg/content/adobe-cms/us/en/homepage/jcr:content/root/table_of_contents/block_card_container/container/card_1430209788/image\">\\n            </dds-image-item>\\n            <dds-image-item media=\"(min-width: 481px)\" srcset=\"/content/dam/connectedassets-adobe-cms/worldwide-content/creative-assets/ibs/ul/g/00/00/0100129_Oppermann_PE.component.card-s.ts=1698245293299.jpg/content/adobe-cms/us/en/homepage/jcr:content/root/table_of_contents/block_card_container/container/card_1430209788/image\">\\n            </dds-image-item>\\n            <dds-image-item media=\"(max-width: 480px) and (min-resolution: 192dpi)\" srcset=\"/content/dam/connectedassets-adobe-cms/worldwide-content/creative-assets/ibs/ul/g/00/00/0100129_Oppermann_PE.component.card-xs-retina.ts=1698245293299.jpg/content/adobe-cms/us/en/homepage/jcr:content/root/table_of_contents/block_card_container/container/card_1430209788/image\">\\n            </dds-image-item>\\n            <dds-image-item media=\"(max-width: 480px)\" srcset=\"/content/dam/connectedassets-adobe-cms/worldwide-content/creative-assets/ibs/ul/g/00/00/0100129_Oppermann_PE.component.card-xs.ts=1698245293299.jpg/content/adobe-cms/us/en/homepage/jcr:content/root/table_of_contents/block_card_container/container/card_1430209788/image\">\\n            </dds-image-item>\\n           </dds-image>\\n           <dds-card-eyebrow aria-hidden=\"true\" class=\"bx--card__eyebrow\" slot=\"eyebrow\">\\n            Careers at IBM\\n           </dds-card-eyebrow>\\n           <dds-card-heading aria-level=\"3\" class=\"bx--card__heading\" role=\"heading\" slot=\"heading\">\\n            From safer food supply to ethical AI, tackle the world\\'s toughest problems\\n           </dds-card-heading>\\n           <dds-card-cta-footer aria-hidden=\"true\" class=\"bx--card__footer-icon-size\" cta-type=\"local\" href=\"https://www.ibm.com/careers/us-en/\" icon-placement=\"right\" slot=\"footer\" target=\"_self\">\\n           </dds-card-cta-footer>\\n          </dds-card-group-item>\\n          <dds-card-group-item cta-type=\"local\" href=\"https://research.ibm.com/\" pictogram-placement=\"top\" target=\"_self\">\\n           <dds-image alt=\"A large quantum server at IBM Research \" default-src=\"/content/dam/connectedassets-adobe-cms/worldwide-content/other/ul/cms/0c/98/ibm-quantum-system-one.component.card-xl.ts=1698245293367.png/content/adobe-cms/us/en/homepage/jcr:content/root/table_of_contents/block_card_container/container/card/image\" id=\"image-2118870306\" slot=\"image\">\\n            <dds-image-item media=\"(min-width: 1312px) and (min-resolution: 192dpi)\" srcset=\"/content/dam/connectedassets-adobe-cms/worldwide-content/other/ul/cms/0c/98/ibm-quantum-system-one.component.card-xl-retina.ts=1698245293367.png/content/adobe-cms/us/en/homepage/jcr:content/root/table_of_contents/block_card_container/container/card/image\">\\n            </dds-image-item>\\n            <dds-image-item media=\"(min-width: 1312px)\" srcset=\"/content/dam/connectedassets-adobe-cms/worldwide-content/other/ul/cms/0c/98/ibm-quantum-system-one.component.card-xl.ts=1698245293367.png/content/adobe-cms/us/en/homepage/jcr:content/root/table_of_contents/block_card_container/container/card/image\">\\n            </dds-image-item>\\n            <dds-image-item media=\"(min-width: 1056px) and (min-resolution: 192dpi)\" srcset=\"/content/dam/connectedassets-adobe-cms/worldwide-content/other/ul/cms/0c/98/ibm-quantum-system-one.component.card-l-retina.ts=1698245293367.png/content/adobe-cms/us/en/homepage/jcr:content/root/table_of_contents/block_card_container/container/card/image\">\\n            </dds-image-item>\\n            <dds-image-item media=\"(min-width: 1056px)\" srcset=\"/content/dam/connectedassets-adobe-cms/worldwide-content/other/ul/cms/0c/98/ibm-quantum-system-one.component.card-l.ts=1698245293367.png/content/adobe-cms/us/en/homepage/jcr:content/root/table_of_contents/block_card_container/container/card/image\">\\n            </dds-image-item>\\n            <dds-image-item media=\"(min-width: 672px) and (min-resolution: 192dpi)\" srcset=\"/content/dam/connectedassets-adobe-cms/worldwide-content/other/ul/cms/0c/98/ibm-quantum-system-one.component.card-m-retina.ts=1698245293367.png/content/adobe-cms/us/en/homepage/jcr:content/root/table_of_contents/block_card_container/container/card/image\">\\n            </dds-image-item>\\n            <dds-image-item media=\"(min-width: 672px)\" srcset=\"/content/dam/connectedassets-adobe-cms/worldwide-content/other/ul/cms/0c/98/ibm-quantum-system-one.component.card-m.ts=1698245293367.png/content/adobe-cms/us/en/homepage/jcr:content/root/table_of_contents/block_card_container/container/card/image\">\\n            </dds-image-item>\\n            <dds-image-item media=\"(min-width: 481px) and (min-resolution: 192dpi)\" srcset=\"/content/dam/connectedassets-adobe-cms/worldwide-content/other/ul/cms/0c/98/ibm-quantum-system-one.component.card-s-retina.ts=1698245293367.png/content/adobe-cms/us/en/homepage/jcr:content/root/table_of_contents/block_card_container/container/card/image\">\\n            </dds-image-item>\\n            <dds-image-item media=\"(min-width: 481px)\" srcset=\"/content/dam/connectedassets-adobe-cms/worldwide-content/other/ul/cms/0c/98/ibm-quantum-system-one.component.card-s.ts=1698245293367.png/content/adobe-cms/us/en/homepage/jcr:content/root/table_of_contents/block_card_container/container/card/image\">\\n            </dds-image-item>\\n            <dds-image-item media=\"(max-width: 480px) and (min-resolution: 192dpi)\" srcset=\"/content/dam/connectedassets-adobe-cms/worldwide-content/other/ul/cms/0c/98/ibm-quantum-system-one.component.card-xs-retina.ts=1698245293367.png/content/adobe-cms/us/en/homepage/jcr:content/root/table_of_contents/block_card_container/container/card/image\">\\n            </dds-image-item>\\n            <dds-image-item media=\"(max-width: 480px)\" srcset=\"/content/dam/connectedassets-adobe-cms/worldwide-content/other/ul/cms/0c/98/ibm-quantum-system-one.component.card-xs.ts=1698245293367.png/content/adobe-cms/us/en/homepage/jcr:content/root/table_of_contents/block_card_container/container/card/image\">\\n            </dds-image-item>\\n           </dds-image>\\n           <dds-card-eyebrow aria-hidden=\"true\" class=\"bx--card__eyebrow\" slot=\"eyebrow\">\\n            IBM Research\\n           </dds-card-eyebrow>\\n           <dds-card-heading aria-level=\"3\" class=\"bx--card__heading\" role=\"heading\" slot=\"heading\">\\n            See the latest technology developed by IBM scientists and design thinkers\\n           </dds-card-heading>\\n           <dds-card-cta-footer aria-hidden=\"true\" class=\"bx--card__footer-icon-size\" cta-type=\"local\" href=\"https://research.ibm.com/\" icon-placement=\"right\" slot=\"footer\" target=\"_self\">\\n           </dds-card-cta-footer>\\n          </dds-card-group-item>\\n          <dds-card-group-item cta-type=\"external\" href=\"https://skillsbuild.org/\" pictogram-placement=\"top\" target=\"_blank\">\\n           <dds-image alt=\"Portrait of tech worker in front of giant server\" default-src=\"/content/dam/connectedassets-adobe-cms/worldwide-content/stock-assets/getty/image/photography/fe/64/universitychile0013846.component.card-xl.ts=1698245293507.jpg/content/adobe-cms/us/en/homepage/jcr:content/root/table_of_contents/block_card_container/container/card_1937905391/image\" id=\"image--701373138\" slot=\"image\">\\n            <dds-image-item media=\"(min-width: 1312px) and (min-resolution: 192dpi)\" srcset=\"/content/dam/connectedassets-adobe-cms/worldwide-content/stock-assets/getty/image/photography/fe/64/universitychile0013846.component.card-xl-retina.ts=1698245293507.jpg/content/adobe-cms/us/en/homepage/jcr:content/root/table_of_contents/block_card_container/container/card_1937905391/image\">\\n            </dds-image-item>\\n            <dds-image-item media=\"(min-width: 1312px)\" srcset=\"/content/dam/connectedassets-adobe-cms/worldwide-content/stock-assets/getty/image/photography/fe/64/universitychile0013846.component.card-xl.ts=1698245293507.jpg/content/adobe-cms/us/en/homepage/jcr:content/root/table_of_contents/block_card_container/container/card_1937905391/image\">\\n            </dds-image-item>\\n            <dds-image-item media=\"(min-width: 1056px) and (min-resolution: 192dpi)\" srcset=\"/content/dam/connectedassets-adobe-cms/worldwide-content/stock-assets/getty/image/photography/fe/64/universitychile0013846.component.card-l-retina.ts=1698245293507.jpg/content/adobe-cms/us/en/homepage/jcr:content/root/table_of_contents/block_card_container/container/card_1937905391/image\">\\n            </dds-image-item>\\n            <dds-image-item media=\"(min-width: 1056px)\" srcset=\"/content/dam/connectedassets-adobe-cms/worldwide-content/stock-assets/getty/image/photography/fe/64/universitychile0013846.component.card-l.ts=1698245293507.jpg/content/adobe-cms/us/en/homepage/jcr:content/root/table_of_contents/block_card_container/container/card_1937905391/image\">\\n            </dds-image-item>\\n            <dds-image-item media=\"(min-width: 672px) and (min-resolution: 192dpi)\" srcset=\"/content/dam/connectedassets-adobe-cms/worldwide-content/stock-assets/getty/image/photography/fe/64/universitychile0013846.component.card-m-retina.ts=1698245293507.jpg/content/adobe-cms/us/en/homepage/jcr:content/root/table_of_contents/block_card_container/container/card_1937905391/image\">\\n            </dds-image-item>\\n            <dds-image-item media=\"(min-width: 672px)\" srcset=\"/content/dam/connectedassets-adobe-cms/worldwide-content/stock-assets/getty/image/photography/fe/64/universitychile0013846.component.card-m.ts=1698245293507.jpg/content/adobe-cms/us/en/homepage/jcr:content/root/table_of_contents/block_card_container/container/card_1937905391/image\">\\n            </dds-image-item>\\n            <dds-image-item media=\"(min-width: 481px) and (min-resolution: 192dpi)\" srcset=\"/content/dam/connectedassets-adobe-cms/worldwide-content/stock-assets/getty/image/photography/fe/64/universitychile0013846.component.card-s-retina.ts=1698245293507.jpg/content/adobe-cms/us/en/homepage/jcr:content/root/table_of_contents/block_card_container/container/card_1937905391/image\">\\n            </dds-image-item>\\n            <dds-image-item media=\"(min-width: 481px)\" srcset=\"/content/dam/connectedassets-adobe-cms/worldwide-content/stock-assets/getty/image/photography/fe/64/universitychile0013846.component.card-s.ts=1698245293507.jpg/content/adobe-cms/us/en/homepage/jcr:content/root/table_of_contents/block_card_container/container/card_1937905391/image\">\\n            </dds-image-item>\\n            <dds-image-item media=\"(max-width: 480px) and (min-resolution: 192dpi)\" srcset=\"/content/dam/connectedassets-adobe-cms/worldwide-content/stock-assets/getty/image/photography/fe/64/universitychile0013846.component.card-xs-retina.ts=1698245293507.jpg/content/adobe-cms/us/en/homepage/jcr:content/root/table_of_contents/block_card_container/container/card_1937905391/image\">\\n            </dds-image-item>\\n            <dds-image-item media=\"(max-width: 480px)\" srcset=\"/content/dam/connectedassets-adobe-cms/worldwide-content/stock-assets/getty/image/photography/fe/64/universitychile0013846.component.card-xs.ts=1698245293507.jpg/content/adobe-cms/us/en/homepage/jcr:content/root/table_of_contents/block_card_container/container/card_1937905391/image\">\\n            </dds-image-item>\\n           </dds-image>\\n           <dds-card-eyebrow aria-hidden=\"true\" class=\"bx--card__eyebrow\" slot=\"eyebrow\">\\n            Training and skills\\n           </dds-card-eyebrow>\\n           <dds-card-heading aria-level=\"3\" class=\"bx--card__heading\" role=\"heading\" slot=\"heading\">\\n            Power your future in tech with job skills, courses and credentials—for free\\n           </dds-card-heading>\\n           <dds-card-cta-footer aria-hidden=\"true\" class=\"bx--card__footer-icon-size\" cta-type=\"external\" href=\"https://skillsbuild.org/\" icon-placement=\"right\" slot=\"footer\" target=\"_blank\">\\n           </dds-card-cta-footer>\\n          </dds-card-group-item>\\n          <dds-card-group-item cta-type=\"local\" href=\"https://www.ibm.com/impact\" pictogram-placement=\"top\" target=\"_self\">\\n           <dds-image alt=\"Aerial view of solar panels is in graphic rows\" default-src=\"/content/dam/connectedassets-adobe-cms/worldwide-content/stock-assets/getty/image/photography/54/74/dji_0758.component.card-xl.ts=1698245293712.jpg/content/adobe-cms/us/en/homepage/jcr:content/root/table_of_contents/block_card_container/container/block_card/image\" id=\"image--1500950636\" slot=\"image\">\\n            <dds-image-item media=\"(min-width: 1312px) and (min-resolution: 192dpi)\" srcset=\"/content/dam/connectedassets-adobe-cms/worldwide-content/stock-assets/getty/image/photography/54/74/dji_0758.component.card-xl-retina.ts=1698245293712.jpg/content/adobe-cms/us/en/homepage/jcr:content/root/table_of_contents/block_card_container/container/block_card/image\">\\n            </dds-image-item>\\n            <dds-image-item media=\"(min-width: 1312px)\" srcset=\"/content/dam/connectedassets-adobe-cms/worldwide-content/stock-assets/getty/image/photography/54/74/dji_0758.component.card-xl.ts=1698245293712.jpg/content/adobe-cms/us/en/homepage/jcr:content/root/table_of_contents/block_card_container/container/block_card/image\">\\n            </dds-image-item>\\n            <dds-image-item media=\"(min-width: 1056px) and (min-resolution: 192dpi)\" srcset=\"/content/dam/connectedassets-adobe-cms/worldwide-content/stock-assets/getty/image/photography/54/74/dji_0758.component.card-l-retina.ts=1698245293712.jpg/content/adobe-cms/us/en/homepage/jcr:content/root/table_of_contents/block_card_container/container/block_card/image\">\\n            </dds-image-item>\\n            <dds-image-item media=\"(min-width: 1056px)\" srcset=\"/content/dam/connectedassets-adobe-cms/worldwide-content/stock-assets/getty/image/photography/54/74/dji_0758.component.card-l.ts=1698245293712.jpg/content/adobe-cms/us/en/homepage/jcr:content/root/table_of_contents/block_card_container/container/block_card/image\">\\n            </dds-image-item>\\n            <dds-image-item media=\"(min-width: 672px) and (min-resolution: 192dpi)\" srcset=\"/content/dam/connectedassets-adobe-cms/worldwide-content/stock-assets/getty/image/photography/54/74/dji_0758.component.card-m-retina.ts=1698245293712.jpg/content/adobe-cms/us/en/homepage/jcr:content/root/table_of_contents/block_card_container/container/block_card/image\">\\n            </dds-image-item>\\n            <dds-image-item media=\"(min-width: 672px)\" srcset=\"/content/dam/connectedassets-adobe-cms/worldwide-content/stock-assets/getty/image/photography/54/74/dji_0758.component.card-m.ts=1698245293712.jpg/content/adobe-cms/us/en/homepage/jcr:content/root/table_of_contents/block_card_container/container/block_card/image\">\\n            </dds-image-item>\\n            <dds-image-item media=\"(min-width: 481px) and (min-resolution: 192dpi)\" srcset=\"/content/dam/connectedassets-adobe-cms/worldwide-content/stock-assets/getty/image/photography/54/74/dji_0758.component.card-s-retina.ts=1698245293712.jpg/content/adobe-cms/us/en/homepage/jcr:content/root/table_of_contents/block_card_container/container/block_card/image\">\\n            </dds-image-item>\\n            <dds-image-item media=\"(min-width: 481px)\" srcset=\"/content/dam/connectedassets-adobe-cms/worldwide-content/stock-assets/getty/image/photography/54/74/dji_0758.component.card-s.ts=1698245293712.jpg/content/adobe-cms/us/en/homepage/jcr:content/root/table_of_contents/block_card_container/container/block_card/image\">\\n            </dds-image-item>\\n            <dds-image-item media=\"(max-width: 480px) and (min-resolution: 192dpi)\" srcset=\"/content/dam/connectedassets-adobe-cms/worldwide-content/stock-assets/getty/image/photography/54/74/dji_0758.component.card-xs-retina.ts=1698245293712.jpg/content/adobe-cms/us/en/homepage/jcr:content/root/table_of_contents/block_card_container/container/block_card/image\">\\n            </dds-image-item>\\n            <dds-image-item media=\"(max-width: 480px)\" srcset=\"/content/dam/connectedassets-adobe-cms/worldwide-content/stock-assets/getty/image/photography/54/74/dji_0758.component.card-xs.ts=1698245293712.jpg/content/adobe-cms/us/en/homepage/jcr:content/root/table_of_contents/block_card_container/container/block_card/image\">\\n            </dds-image-item>\\n           </dds-image>\\n           <dds-card-eyebrow aria-hidden=\"true\" class=\"bx--card__eyebrow\" slot=\"eyebrow\">\\n            Corporate social responsibility\\n           </dds-card-eyebrow>\\n           <dds-card-heading aria-level=\"3\" class=\"bx--card__heading\" role=\"heading\" slot=\"heading\">\\n            IBM aspires to make a positive impact on the world and the places where we work and live\\n           </dds-card-heading>\\n           <dds-card-cta-footer aria-hidden=\"true\" class=\"bx--card__footer-icon-size\" cta-type=\"local\" href=\"https://www.ibm.com/impact\" icon-placement=\"right\" slot=\"footer\" target=\"_self\">\\n           </dds-card-cta-footer>\\n          </dds-card-group-item>\\n         </dds-card-group>\\n        </dds-content-block-cards>\\n       </div>\\n      </div>\\n     </dds-table-of-contents>\\n    </div>\\n    <div class=\"footer\">\\n     <dds-footer-container class=\"cmp-footer\" data-autoid=\"dds--footer\" data-children-count=\"0\" data-cmp-is=\"footer\" size=\"tall\">\\n     </dds-footer-container>\\n    </div>\\n   </div>\\n  </div>\\n  <dds-lightbox-video-player-container>\\n  </dds-lightbox-video-player-container>\\n  <script src=\"/etc.clientlibs/adobe-cms/clientlibs/clientlib-idlBundle.min.ACSHASHc2af6e6bb32e23adb0343926119b2e53.js\">\\n  </script>\\n  <script src=\"/etc.clientlibs/adobe-cms/clientlibs/clientlib-target-antiflicker.min.ACSHASH36a1efb28e947b5873f4a28c2cf9d5eb.js\">\\n  </script>\\n  <script src=\"/etc.clientlibs/adobe-cms/clientlibs/clientlib-idlWebComponents.min.ACSHASH4828772bd357936c6e9c974d09355e66.js\">\\n  </script>\\n  <script src=\"/etc.clientlibs/adobe-cms/clientlibs/clientlib-idlStyles.min.ACSHASH07f37b3eb2f8214908b4bf864aef26a0.js\">\\n  </script>\\n  <script async=\"\" defer=\"\" src=\"https://www.ibm.com/common/digitaladvisor/cm-app/latest/cm-app.min.js\">\\n  </script>\\n  <script src=\"/MsZke8/E-t/oJT/MceNJw/EiuhkXptmzaN/exMUAS0/U1VcY/CB7B0EB\" type=\"text/javascript\">\\n  </script>\\n  <link href=\"/_sec/cp_challenge/sec-4-0.css\" rel=\"stylesheet\" type=\"text/css\"/>\\n  <script async=\"\" defer=\"\" src=\"/_sec/cp_challenge/sec-cpt-4-0.js\">\\n  </script>\\n  <div id=\"sec-overlay\" style=\"display:none;\">\\n   <div id=\"sec-container\">\\n   </div>\\n  </div>\\n </body>\\n</html>'"
      ]
     },
     "execution_count": 57,
     "metadata": {},
     "output_type": "execute_result"
    }
   ],
   "source": [
    "soup.prettify()"
   ]
  },
  {
   "cell_type": "markdown",
   "metadata": {},
   "source": [
    "Scrape all links\n"
   ]
  },
  {
   "cell_type": "code",
   "execution_count": 58,
   "metadata": {},
   "outputs": [
    {
     "name": "stdout",
     "output_type": "stream",
     "text": [
      "https://www.ibm.com/cloud?lnk=intro\n"
     ]
    }
   ],
   "source": [
    "for link in soup.find_all('a',href=True):  # in html anchor/link is represented by the tag <a>\n",
    "\n",
    "    print(link.get('href'))\n"
   ]
  },
  {
   "cell_type": "markdown",
   "metadata": {},
   "source": [
    "## Scrape  all images  Tags\n"
   ]
  },
  {
   "cell_type": "code",
   "execution_count": 59,
   "metadata": {},
   "outputs": [
    {
     "name": "stdout",
     "output_type": "stream",
     "text": [
      "<img alt=\"Portraits of IBM consultants\" class=\"bx--image__img\" id=\"image-1128229217\" loading=\"lazy\" src=\"/content/dam/adobe-cms/default-images/home-consultants.component.crop-16by9-xl.ts=1698245292190.jpg/content/adobe-cms/us/en/homepage/_jcr_content/root/table_of_contents/simple_image\"/>\n",
      "/content/dam/adobe-cms/default-images/home-consultants.component.crop-16by9-xl.ts=1698245292190.jpg/content/adobe-cms/us/en/homepage/_jcr_content/root/table_of_contents/simple_image\n"
     ]
    }
   ],
   "source": [
    "for link in soup.find_all('img'):# in html image is represented by the tag <img>\n",
    "    print(link)\n",
    "    print(link.get('src'))"
   ]
  },
  {
   "cell_type": "markdown",
   "metadata": {},
   "source": [
    "### Scrape data from HTML tables\n"
   ]
  },
  {
   "cell_type": "code",
   "execution_count": 60,
   "metadata": {},
   "outputs": [],
   "source": [
    "#The below url contains an html table with data about colors and color codes.\n",
    "url = \"https://cf-courses-data.s3.us.cloud-object-storage.appdomain.cloud/IBM-DA0321EN-SkillsNetwork/labs/datasets/HTMLColorCodes.html\""
   ]
  },
  {
   "cell_type": "markdown",
   "metadata": {},
   "source": [
    "Before proceeding to scrape a web site, you need to examine the contents and the way data is organized on the website. Open the above url in your browser and check how many rows and columns there are in the color table.\n"
   ]
  },
  {
   "cell_type": "code",
   "execution_count": 61,
   "metadata": {},
   "outputs": [],
   "source": [
    "# get the contents of the webpage in text format and store in a variable called data\n",
    "data  = requests.get(url).text"
   ]
  },
  {
   "cell_type": "code",
   "execution_count": 62,
   "metadata": {},
   "outputs": [],
   "source": [
    "soup = BeautifulSoup(data,\"html5lib\")"
   ]
  },
  {
   "cell_type": "code",
   "execution_count": 63,
   "metadata": {},
   "outputs": [],
   "source": [
    "#find a html table in the web page\n",
    "table = soup.find('table') # in html table is represented by the tag <table>"
   ]
  },
  {
   "cell_type": "code",
   "execution_count": 64,
   "metadata": {},
   "outputs": [
    {
     "name": "stdout",
     "output_type": "stream",
     "text": [
      "Color Name--->Hex Code#RRGGBB\n",
      "lightsalmon--->#FFA07A\n",
      "salmon--->#FA8072\n",
      "darksalmon--->#E9967A\n",
      "lightcoral--->#F08080\n",
      "coral--->#FF7F50\n",
      "tomato--->#FF6347\n",
      "orangered--->#FF4500\n",
      "gold--->#FFD700\n",
      "orange--->#FFA500\n",
      "darkorange--->#FF8C00\n",
      "lightyellow--->#FFFFE0\n",
      "lemonchiffon--->#FFFACD\n",
      "papayawhip--->#FFEFD5\n",
      "moccasin--->#FFE4B5\n",
      "peachpuff--->#FFDAB9\n",
      "palegoldenrod--->#EEE8AA\n",
      "khaki--->#F0E68C\n",
      "darkkhaki--->#BDB76B\n",
      "yellow--->#FFFF00\n",
      "lawngreen--->#7CFC00\n",
      "chartreuse--->#7FFF00\n",
      "limegreen--->#32CD32\n",
      "lime--->#00FF00\n",
      "forestgreen--->#228B22\n",
      "green--->#008000\n",
      "powderblue--->#B0E0E6\n",
      "lightblue--->#ADD8E6\n",
      "lightskyblue--->#87CEFA\n",
      "skyblue--->#87CEEB\n",
      "deepskyblue--->#00BFFF\n",
      "lightsteelblue--->#B0C4DE\n",
      "dodgerblue--->#1E90FF\n"
     ]
    }
   ],
   "source": [
    "#Get all rows from the table\n",
    "for row in table.find_all('tr'): # in html table row is represented by the tag <tr>\n",
    "    # Get all columns in each row.\n",
    "    cols = row.find_all('td') # in html a column is represented by the tag <td>\n",
    "    color_name = cols[2].string # store the value in column 3 as color_name\n",
    "    color_code = cols[3].text # store the value in column 4 as color_code\n",
    "    print(\"{}--->{}\".format(color_name,color_code))"
   ]
  },
  {
   "cell_type": "code",
   "execution_count": 68,
   "metadata": {
    "tags": []
   },
   "outputs": [
    {
     "data": {
      "text/plain": [
       "<tr>\n",
       "      <td>1</td>\n",
       "      <td style=\"background:lightsalmon;\"> </td>\n",
       "      <td>lightsalmon</td>\n",
       "      <td>#FFA07A</td>\n",
       "      <td>rgb(255,160,122)</td>\n",
       "   </tr>"
      ]
     },
     "execution_count": 68,
     "metadata": {},
     "output_type": "execute_result"
    }
   ],
   "source": [
    "table.find_all('tr')[1]"
   ]
  },
  {
   "cell_type": "code",
   "execution_count": 70,
   "metadata": {
    "tags": []
   },
   "outputs": [
    {
     "name": "stdout",
     "output_type": "stream",
     "text": [
      "lightsalmon--->#FFA07A\n",
      "salmon--->#FA8072\n",
      "darksalmon--->#E9967A\n",
      "lightcoral--->#F08080\n",
      "coral--->#FF7F50\n",
      "tomato--->#FF6347\n",
      "orangered--->#FF4500\n",
      "gold--->#FFD700\n",
      "orange--->#FFA500\n",
      "darkorange--->#FF8C00\n",
      "lightyellow--->#FFFFE0\n",
      "lemonchiffon--->#FFFACD\n",
      "papayawhip--->#FFEFD5\n",
      "moccasin--->#FFE4B5\n",
      "peachpuff--->#FFDAB9\n",
      "palegoldenrod--->#EEE8AA\n",
      "khaki--->#F0E68C\n",
      "darkkhaki--->#BDB76B\n",
      "yellow--->#FFFF00\n",
      "lawngreen--->#7CFC00\n",
      "chartreuse--->#7FFF00\n",
      "limegreen--->#32CD32\n",
      "lime--->#00FF00\n",
      "forestgreen--->#228B22\n",
      "green--->#008000\n",
      "powderblue--->#B0E0E6\n",
      "lightblue--->#ADD8E6\n",
      "lightskyblue--->#87CEFA\n",
      "skyblue--->#87CEEB\n",
      "deepskyblue--->#00BFFF\n",
      "lightsteelblue--->#B0C4DE\n",
      "dodgerblue--->#1E90FF\n"
     ]
    },
    {
     "ename": "IndexError",
     "evalue": "list index out of range",
     "output_type": "error",
     "traceback": [
      "\u001b[0;31m---------------------------------------------------------------------------\u001b[0m",
      "\u001b[0;31mIndexError\u001b[0m                                Traceback (most recent call last)",
      "\u001b[0;32m/tmp/ipykernel_732/785803775.py\u001b[0m in \u001b[0;36m<module>\u001b[0;34m\u001b[0m\n\u001b[1;32m      1\u001b[0m \u001b[0;32mfor\u001b[0m \u001b[0mi\u001b[0m \u001b[0;32min\u001b[0m \u001b[0mrange\u001b[0m\u001b[0;34m(\u001b[0m\u001b[0;36m1\u001b[0m\u001b[0;34m,\u001b[0m\u001b[0mlen\u001b[0m\u001b[0;34m(\u001b[0m\u001b[0mtable\u001b[0m\u001b[0;34m.\u001b[0m\u001b[0mfind_all\u001b[0m\u001b[0;34m(\u001b[0m\u001b[0;34m'tr'\u001b[0m\u001b[0;34m)\u001b[0m\u001b[0;34m)\u001b[0m\u001b[0;34m+\u001b[0m\u001b[0;36m1\u001b[0m\u001b[0;34m)\u001b[0m\u001b[0;34m:\u001b[0m \u001b[0;31m# in html table row is represented by the tag <tr>\u001b[0m\u001b[0;34m\u001b[0m\u001b[0;34m\u001b[0m\u001b[0m\n\u001b[1;32m      2\u001b[0m     \u001b[0;31m# Get all columns in each row.\u001b[0m\u001b[0;34m\u001b[0m\u001b[0;34m\u001b[0m\u001b[0;34m\u001b[0m\u001b[0m\n\u001b[0;32m----> 3\u001b[0;31m     \u001b[0mcols\u001b[0m \u001b[0;34m=\u001b[0m \u001b[0mtable\u001b[0m\u001b[0;34m.\u001b[0m\u001b[0mfind_all\u001b[0m\u001b[0;34m(\u001b[0m\u001b[0;34m'tr'\u001b[0m\u001b[0;34m)\u001b[0m\u001b[0;34m[\u001b[0m\u001b[0mi\u001b[0m\u001b[0;34m]\u001b[0m\u001b[0;34m.\u001b[0m\u001b[0mfind_all\u001b[0m\u001b[0;34m(\u001b[0m\u001b[0;34m'td'\u001b[0m\u001b[0;34m)\u001b[0m \u001b[0;31m# in html a column is represented by the tag <td>\u001b[0m\u001b[0;34m\u001b[0m\u001b[0;34m\u001b[0m\u001b[0m\n\u001b[0m\u001b[1;32m      4\u001b[0m     \u001b[0mcolor_name\u001b[0m \u001b[0;34m=\u001b[0m \u001b[0mcols\u001b[0m\u001b[0;34m[\u001b[0m\u001b[0;36m2\u001b[0m\u001b[0;34m]\u001b[0m\u001b[0;34m.\u001b[0m\u001b[0mstring\u001b[0m \u001b[0;31m# store the value in column 3 as color_name\u001b[0m\u001b[0;34m\u001b[0m\u001b[0;34m\u001b[0m\u001b[0m\n\u001b[1;32m      5\u001b[0m     \u001b[0mcolor_code\u001b[0m \u001b[0;34m=\u001b[0m \u001b[0mcols\u001b[0m\u001b[0;34m[\u001b[0m\u001b[0;36m3\u001b[0m\u001b[0;34m]\u001b[0m\u001b[0;34m.\u001b[0m\u001b[0mtext\u001b[0m \u001b[0;31m# store the value in column 4 as color_code\u001b[0m\u001b[0;34m\u001b[0m\u001b[0;34m\u001b[0m\u001b[0m\n",
      "\u001b[0;31mIndexError\u001b[0m: list index out of range"
     ]
    }
   ],
   "source": [
    "for i in range(1,len(table.find_all('tr'))+1): # in html table row is represented by the tag <tr>\n",
    "    # Get all columns in each row.\n",
    "    cols = table.find_all('tr')[i].find_all('td') # in html a column is represented by the tag <td>\n",
    "    color_name = cols[2].string # store the value in column 3 as color_name\n",
    "    color_code = cols[3].text # store the value in column 4 as color_code\n",
    "    print(\"{}--->{}\".format(color_name,color_code))"
   ]
  },
  {
   "cell_type": "markdown",
   "metadata": {},
   "source": [
    "## Authors\n"
   ]
  },
  {
   "cell_type": "markdown",
   "metadata": {},
   "source": [
    "Ramesh Sannareddy\n"
   ]
  },
  {
   "cell_type": "markdown",
   "metadata": {},
   "source": [
    "### Other Contributors\n"
   ]
  },
  {
   "cell_type": "markdown",
   "metadata": {},
   "source": [
    "Rav Ahuja\n"
   ]
  },
  {
   "cell_type": "markdown",
   "metadata": {},
   "source": [
    "## Change Log\n"
   ]
  },
  {
   "cell_type": "markdown",
   "metadata": {},
   "source": [
    "| Date (YYYY-MM-DD) | Version | Changed By            |          Change Description         |\n",
    "| ----------------- | ------- | ----------------------| ----------------------------------- |\n",
    "| 2023-06-11        | 1.0     | Akansha Yadav         |   Spell check                       |\n",
    "| 2020-10-17        | 0.1     | Joseph Santarcangelo  |  Created initial version of the lab |\n"
   ]
  },
  {
   "cell_type": "markdown",
   "metadata": {},
   "source": [
    "Copyright © 2020 IBM Corporation. This notebook and its source code are released under the terms of the [MIT License](https://cognitiveclass.ai/mit-license/?utm_medium=Exinfluencer&utm_source=Exinfluencer&utm_content=000026UJ&utm_term=10006555&utm_id=NA-SkillsNetwork-Channel-SkillsNetworkCoursesIBMDeveloperSkillsNetworkPY0101ENSkillsNetwork19487395-2021-01-01).\n"
   ]
  }
 ],
 "metadata": {
  "kernelspec": {
   "display_name": "Python",
   "language": "python",
   "name": "conda-env-python-py"
  },
  "language_info": {
   "codemirror_mode": {
    "name": "ipython",
    "version": 3
   },
   "file_extension": ".py",
   "mimetype": "text/x-python",
   "name": "python",
   "nbconvert_exporter": "python",
   "pygments_lexer": "ipython3",
   "version": "3.7.12"
  }
 },
 "nbformat": 4,
 "nbformat_minor": 4
}
